{
 "cells": [
  {
   "cell_type": "markdown",
   "metadata": {},
   "source": [
    "# Manipulación de datos con Pandas"
   ]
  },
  {
   "cell_type": "markdown",
   "metadata": {},
   "source": [
    "Nos basaremos en detalle en las estructuras de datos proporcionadas por la biblioteca de Pandas. Pandas es un paquete más nuevo creado sobre NumPy y proporciona una implementación eficiente de un ``DataFrame``. Los ``DataFrame`` son esencialmente matrices multidimensionales con etiquetas de fila y columna adjuntas y, a menudo, con tipos heterogéneos y/o datos faltantes. Además de ofrecer una interfaz de almacenamiento conveniente para datos etiquetados, Pandas implementa una serie de poderosas operaciones de datos familiares para los usuarios de marcos de bases de datos y programas de hojas de cálculo. \n",
    "\n",
    "\n",
    "Como vimos, NumPy es ``ndarray`` La estructura de datos proporciona características esenciales para el tipo de datos limpios y bien organizados que normalmente se ven en las tareas de computación numérica. Si bien sirve muy bien para este propósito, sus limitaciones se hacen evidentes cuando necesitamos más flexibilidad (p. ej., adjuntar etiquetas a los datos, trabajar con datos faltantes, etc.) y cuando intentamos operaciones que no se corresponden bien con la transmisión por elementos (p. ej., agrupaciones, pivotes, etc.), cada uno de los cuales es una pieza importante para analizar los datos menos estructurados disponibles en muchas formas en el mundo que nos rodea. Pandas, y en particular sus ``Series`` y ``DataFrame`` objetos, se basa en la estructura de matriz NumPy y proporciona un acceso eficiente a este tipo de tareas de \"transferencia de datos\" que ocupan gran parte del tiempo de un científico de datos. \n",
    "\n",
    "\n",
    "En este capítulo, nos centraremos en la mecánica del uso ``Series``,  ``DataFrame``, y estructuras relacionadas con eficacia. Usaremos ejemplos extraídos de conjuntos de datos reales cuando corresponda, pero estos ejemplos no son necesariamente el enfoque. "
   ]
  },
  {
   "cell_type": "markdown",
   "metadata": {},
   "source": [
    "## Instalando y Usando Pandas \n",
    "\n",
    "La instalación de Pandas en su sistema requiere la instalación de NumPy y, si crea la biblioteca desde la fuente, requiere las herramientas adecuadas para compilar las fuentes C y Cython en las que se basa Pandas. Los detalles sobre esta instalación se pueden encontrar en la documentación de Pandas.\n",
    "\n",
    "Una vez instalado Pandas, puede importarlo y verificar la versión: "
   ]
  },
  {
   "cell_type": "code",
   "execution_count": 1,
   "metadata": {
    "collapsed": false
   },
   "outputs": [
    {
     "data": {
      "text/plain": [
       "'1.4.0'"
      ]
     },
     "execution_count": 1,
     "metadata": {},
     "output_type": "execute_result"
    }
   ],
   "source": [
    "import pandas\n",
    "pandas.__version__"
   ]
  },
  {
   "cell_type": "markdown",
   "metadata": {},
   "source": [
    "Así como generalmente importamos NumPy bajo el alias ``np``, importaremos Pandas bajo el alias ``pd``:"
   ]
  },
  {
   "cell_type": "code",
   "execution_count": 2,
   "metadata": {
    "collapsed": true
   },
   "outputs": [],
   "source": [
    "import pandas as pd"
   ]
  },
  {
   "cell_type": "markdown",
   "metadata": {},
   "source": [
    "Esta convención de importación se utilizará en el resto de este libro."
   ]
  },
  {
   "cell_type": "markdown",
   "metadata": {},
   "source": [
    "## Recordatorio sobre la Documentación Incorporada ¶ \n",
    "\n",
    "A medida que lea este capítulo, no olvide que IPython le brinda la capacidad de explorar rápidamente el contenido de un paquete (usando la función de finalización de pestañas), así como la documentación de varias funciones (usando el caracter ``?``). \n",
    "\n",
    "Por ejemplo, para mostrar todo el contenido del espacio de nombres pandas, puede escribir \n",
    "\n",
    "```ipython\n",
    "In [3]: pd.<TAB>\n",
    "```\n",
    "\n",
    "Y para mostrar la documentación integrada de Pandas, puede usar esto: \n",
    "\n",
    "```ipython\n",
    "In [4]: pd?\n",
    "```\n",
    "\n",
    "Se puede encontrar documentación más detallada, junto con tutoriales y otros recursos, en http://pandas.pydata.org/ ."
   ]
  }
 ],
 "metadata": {
  "interpreter": {
   "hash": "2576be1e3638b6e131e61d6112fad6c456d8bc880e81a5fcaa34bfa82a9be1a5"
  },
  "kernelspec": {
   "display_name": "Python 3.8.10 64-bit ('dataSci': venv)",
   "language": "python",
   "name": "python3"
  },
  "language_info": {
   "codemirror_mode": {
    "name": "ipython",
    "version": 3
   },
   "file_extension": ".py",
   "mimetype": "text/x-python",
   "name": "python",
   "nbconvert_exporter": "python",
   "pygments_lexer": "ipython3",
   "version": "3.8.10"
  },
  "orig_nbformat": 4
 },
 "nbformat": 4,
 "nbformat_minor": 2
}
