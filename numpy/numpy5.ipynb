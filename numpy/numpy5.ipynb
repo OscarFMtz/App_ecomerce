{
 "cells": [
  {
   "cell_type": "markdown",
   "metadata": {},
   "source": [
    "# Comparaciones, máscaras y lógica booleana"
   ]
  },
  {
   "cell_type": "markdown",
   "metadata": {},
   "source": [
    "Esta sección cubre el uso de máscaras booleanas para examinar y manipular valores dentro de matrices NumPy.\n",
    "\n",
    "El enmascaramiento surge cuando desea extraer, modificar, contar o manipular valores en una matriz en función de algún criterio:    por ejemplo, es posible que desee contar todos los valores mayores que cierto valor, o quizás eliminar todos los valores atípicos que están por encima de algún valor umbral. \n",
    "\n",
    "En NumPy, el enmascaramiento booleano suele ser la forma más eficiente de realizar este tipo de tareas."
   ]
  },
  {
   "cell_type": "markdown",
   "metadata": {},
   "source": [
    "## Ejemplo: Contando los Días de Lluvia \n",
    "\n",
    "Imagina que tienes una serie de datos que representan la cantidad de precipitación cada día durante un año en una ciudad determinada. \n",
    "\n",
    "Por ejemplo, aquí cargaremos las estadísticas diarias de lluvia para la ciudad de Seattle en 2014."
   ]
  },
  {
   "cell_type": "code",
   "execution_count": 3,
   "metadata": {
    "collapsed": false
   },
   "outputs": [
    {
     "data": {
      "text/plain": [
       "(365,)"
      ]
     },
     "execution_count": 3,
     "metadata": {},
     "output_type": "execute_result"
    }
   ],
   "source": [
    "import numpy as np\n",
    "import pandas as pd\n",
    "\n",
    "# use pandas to extract rainfall inches as a NumPy array\n",
    "rainfall = pd.read_csv('../data/Seattle2014.csv')['PRCP'].values\n",
    "inches = rainfall / 254.0  # 1/10mm -> inches\n",
    "inches.shape"
   ]
  },
  {
   "cell_type": "markdown",
   "metadata": {},
   "source": [
    "La matriz contiene 365 valores, que dan la precipitación diaria en pulgadas desde el 1 de enero hasta el 31 de diciembre de 2014. \n",
    "\n",
    "Como primera visualización rápida, veamos el histograma de días lluviosos, que se generó usando Matplotlib."
   ]
  },
  {
   "cell_type": "code",
   "execution_count": 5,
   "metadata": {
    "collapsed": false
   },
   "outputs": [],
   "source": [
    "#%matplotlib inline\n",
    "import matplotlib.pyplot as plt\n",
    "#import seaborn; seaborn.set()  # set plot styles"
   ]
  },
  {
   "cell_type": "code",
   "execution_count": 6,
   "metadata": {
    "collapsed": false
   },
   "outputs": [
    {
     "data": {
      "image/png": "[encoded data removed]",
      "text/plain": [
       "<Figure size 432x288 with 1 Axes>"
      ]
     },
     "metadata": {},
     "output_type": "display_data"
    }
   ],
   "source": [
    "plt.hist(inches, 40);"
   ]
  },
  {
   "cell_type": "markdown",
   "metadata": {},
   "source": [
    "Este histograma nos da una idea general de cómo se ven los datos: a pesar de su reputación, la gran mayoría de los días en Seattle registraron precipitaciones casi nulas en 2014. Pero esto no hace un buen trabajo al transmitir cierta información que nos gustaría ver: por ejemplo, \n",
    "+ ¿Cuántos días lluviosos hubo en el año?\n",
    "+ ¿Cuál es la precipitación promedio en esos días lluviosos?\n",
    "+ ¿Cuántos días hubo con más de media pulgada de lluvia?"
   ]
  },
  {
   "cell_type": "markdown",
   "metadata": {},
   "source": [
    "### Profundizando en los datos \n",
    "\n",
    "\n",
    "Un enfoque para esto sería responder estas preguntas a mano: recorrer los datos, incrementando un contador cada vez que vemos valores en algún rango deseado. Por las razones discutidas a lo largo de este capítulo, tal enfoque es muy ineficiente, tanto desde el punto de vista del tiempo de escritura del código como del tiempo de cálculo del resultado. \n",
    "\n",
    "Vimos en *\"Computación en matrices NumPy: funciones universales\"* que las ufuncs de NumPy se pueden usar en lugar de bucles para realizar operaciones aritméticas rápidas de elementos en matrices; De la misma manera, podemos usar otros ufuncs para hacer comparaciones sobre arreglos, y luego podemos manipular los resultados para responder las preguntas que tenemos. Dejaremos los datos a un lado por ahora y discutiremos algunas herramientas generales en NumPy para usar el enmascaramiento para responder rápidamente este tipo de preguntas. "
   ]
  },
  {
   "cell_type": "markdown",
   "metadata": {},
   "source": [
    "## Operadores de comparación como ufuncs\n",
    "\n",
    "Anteriormente, presentamos ufuncs y nos enfocamos en particular en los operadores aritméticos. \n",
    "\n",
    "Vimos que usando ``+``, ``-``, ``*``, ``/``, y otros en matrices conducen a operaciones por elementos.\n",
    "\n",
    "NumPy también implementa operadores de comparación como ``<`` (menor que) y ``>``(mayor que) como elementos ufuncs. El resultado de estos operadores de comparación es siempre una matriz con un tipo de datos booleano. Las seis operaciones de comparación estándar están disponibles:"
   ]
  },
  {
   "cell_type": "code",
   "execution_count": 16,
   "metadata": {
    "collapsed": false
   },
   "outputs": [
    {
     "name": "stdout",
     "output_type": "stream",
     "text": [
      "x less than 3 [ True  True False False False] \n",
      "\n",
      "x greater than 3 [False False False  True  True] \n",
      "\n",
      "x less than or equal 3 [ True  True  True False False] \n",
      "\n",
      "x greater than or equal 3 [False False  True  True  True] \n",
      "\n",
      "x equal 3 [False False  True False False] \n",
      "\n",
      "x not equal 3 [ True  True False  True  True] \n",
      "\n"
     ]
    }
   ],
   "source": [
    "x = np.array([1, 2, 3, 4, 5])\n",
    "\n",
    "print(f'x less than 3 {x<3} \\n')  # less than\n",
    "print(f'x greater than 3 {x>3} \\n')  # greater than\n",
    "print(f'x less than or equal 3 {x<=3} \\n')  # less than or equal\n",
    "print(f'x greater than or equal 3 {x>=3} \\n')  # greater than or equal\n",
    "print(f'x equal 3 {x==3} \\n')  # equal\n",
    "print(f'x not equal 3 {x!=3} \\n')  # not equal\n"
   ]
  },
  {
   "cell_type": "markdown",
   "metadata": {},
   "source": [
    "También es posible hacer una comparación por elementos de dos matrices e incluir expresiones compuestas:"
   ]
  },
  {
   "cell_type": "code",
   "execution_count": 18,
   "metadata": {
    "collapsed": false
   },
   "outputs": [
    {
     "data": {
      "text/plain": [
       "array([False,  True, False, False, False])"
      ]
     },
     "execution_count": 18,
     "metadata": {},
     "output_type": "execute_result"
    }
   ],
   "source": [
    "(2 * x) == (x ** 2)"
   ]
  },
  {
   "cell_type": "markdown",
   "metadata": {},
   "source": [
    "Como en el caso de los operadores aritméticos, los operadores de comparación se implementan como ufuncs en NumPy; por ejemplo, cuando escribes ``x < 3``, utiliza internamente NumPy ``np.less(x, 3)``. Aquí se muestra un resumen de los operadores de comparación y su ufunc equivalente: "
   ]
  },
  {
   "cell_type": "markdown",
   "metadata": {},
   "source": [
    "    A summary of the comparison operators and their equivalent ufunc is shown here:\n",
    "\n",
    "| Operator\t    | Equivalent ufunc    || Operator\t   | Equivalent ufunc    |\n",
    "|---------------|---------------------||---------------|---------------------|\n",
    "|``==``         |``np.equal``         ||``!=``         |``np.not_equal``     |\n",
    "|``<``          |``np.less``          ||``<=``         |``np.less_equal``    |\n",
    "|``>``          |``np.greater``       ||``>=``         |``np.greater_equal`` |"
   ]
  },
  {
   "cell_type": "markdown",
   "metadata": {},
   "source": [
    "Al igual que en el caso de los ufuncs aritméticos, estos funcionarán en arreglos de cualquier tamaño y forma. Aquí hay un ejemplo bidimensional:"
   ]
  },
  {
   "cell_type": "code",
   "execution_count": 19,
   "metadata": {
    "collapsed": false
   },
   "outputs": [
    {
     "data": {
      "text/plain": [
       "array([[5, 0, 3, 3],\n",
       "       [7, 9, 3, 5],\n",
       "       [2, 4, 7, 6]])"
      ]
     },
     "execution_count": 19,
     "metadata": {},
     "output_type": "execute_result"
    }
   ],
   "source": [
    "rng = np.random.RandomState(0)\n",
    "x = rng.randint(10, size=(3, 4))\n",
    "x"
   ]
  },
  {
   "cell_type": "code",
   "execution_count": 20,
   "metadata": {
    "collapsed": false
   },
   "outputs": [
    {
     "data": {
      "text/plain": [
       "array([[ True,  True,  True,  True],\n",
       "       [False, False,  True,  True],\n",
       "       [ True,  True, False, False]])"
      ]
     },
     "execution_count": 20,
     "metadata": {},
     "output_type": "execute_result"
    }
   ],
   "source": [
    "x < 6"
   ]
  },
  {
   "cell_type": "markdown",
   "metadata": {},
   "source": [
    "En cada caso, el resultado es una matriz booleana y NumPy proporciona una serie de patrones sencillos para trabajar con estos resultados booleanos."
   ]
  },
  {
   "cell_type": "markdown",
   "metadata": {},
   "source": [
    "## Trabajando con arreglos booleanos\n",
    "Dada una matriz booleana, hay una gran cantidad de operaciones útiles que puede realizar. trabajaremos con ``x``, la matriz bidimensional que creamos anteriormente. "
   ]
  },
  {
   "cell_type": "code",
   "execution_count": 21,
   "metadata": {
    "collapsed": false
   },
   "outputs": [
    {
     "name": "stdout",
     "output_type": "stream",
     "text": [
      "[[5 0 3 3]\n",
      " [7 9 3 5]\n",
      " [2 4 7 6]]\n"
     ]
    }
   ],
   "source": [
    "print(x)"
   ]
  },
  {
   "cell_type": "markdown",
   "metadata": {},
   "source": [
    "### Contando entradas\n",
    "\n",
    "Para contar el número de``True`` entradas en una matriz booleana, ``np.count_nonzero`` es útil: "
   ]
  },
  {
   "cell_type": "code",
   "execution_count": 22,
   "metadata": {
    "collapsed": false
   },
   "outputs": [
    {
     "data": {
      "text/plain": [
       "8"
      ]
     },
     "execution_count": 22,
     "metadata": {},
     "output_type": "execute_result"
    }
   ],
   "source": [
    "# how many values less than 6?\n",
    "np.count_nonzero(x < 6)"
   ]
  },
  {
   "cell_type": "markdown",
   "metadata": {},
   "source": [
    "Vemos que hay ocho entradas de matriz que son menores que 6.\n",
    "\n",
    "Otra forma de obtener esta información es usar ``np.sum``; en este caso, ``False`` se interpreta como ``0``, y ``True`` se interpreta como ``1``:"
   ]
  },
  {
   "cell_type": "code",
   "execution_count": 23,
   "metadata": {
    "collapsed": false
   },
   "outputs": [
    {
     "data": {
      "text/plain": [
       "8"
      ]
     },
     "execution_count": 23,
     "metadata": {},
     "output_type": "execute_result"
    }
   ],
   "source": [
    "np.sum(x < 6)"
   ]
  },
  {
   "cell_type": "markdown",
   "metadata": {},
   "source": [
    "El beneficio de ``sum()`` es que, al igual que con otras funciones de agregación de NumPy, esta suma también se puede realizar a lo largo de filas o columnas:"
   ]
  },
  {
   "cell_type": "code",
   "execution_count": 24,
   "metadata": {
    "collapsed": false
   },
   "outputs": [
    {
     "data": {
      "text/plain": [
       "array([4, 2, 2])"
      ]
     },
     "execution_count": 24,
     "metadata": {},
     "output_type": "execute_result"
    }
   ],
   "source": [
    "# Valores x<6 de cada fila\n",
    "np.sum(x < 6, axis=1)"
   ]
  },
  {
   "cell_type": "markdown",
   "metadata": {},
   "source": [
    "Esto cuenta el número de valores menores a 6 en cada fila de la matriz.\n",
    "\n",
    "Si estamos interesados ​​en verificar rápidamente si alguno o todos los valores son verdaderos, podemos usar (adivinaste) ``np.any`` or ``np.all``:"
   ]
  },
  {
   "cell_type": "code",
   "execution_count": 26,
   "metadata": {
    "collapsed": false
   },
   "outputs": [
    {
     "data": {
      "text/plain": [
       "True"
      ]
     },
     "execution_count": 26,
     "metadata": {},
     "output_type": "execute_result"
    }
   ],
   "source": [
    "# ¿hay valores mayores que 8? \n",
    "np.any(x > 8)"
   ]
  },
  {
   "cell_type": "code",
   "execution_count": 27,
   "metadata": {
    "collapsed": false
   },
   "outputs": [
    {
     "data": {
      "text/plain": [
       "False"
      ]
     },
     "execution_count": 27,
     "metadata": {},
     "output_type": "execute_result"
    }
   ],
   "source": [
    "# ¿hay valores menores que cero? \n",
    "np.any(x < 0)"
   ]
  },
  {
   "cell_type": "code",
   "execution_count": 29,
   "metadata": {
    "collapsed": false
   },
   "outputs": [
    {
     "data": {
      "text/plain": [
       "True"
      ]
     },
     "execution_count": 29,
     "metadata": {},
     "output_type": "execute_result"
    }
   ],
   "source": [
    "# ¿Todos los valores son menores que 10? \n",
    "np.all(x < 10)"
   ]
  },
  {
   "cell_type": "code",
   "execution_count": 28,
   "metadata": {
    "collapsed": false
   },
   "outputs": [
    {
     "data": {
      "text/plain": [
       "False"
      ]
     },
     "execution_count": 28,
     "metadata": {},
     "output_type": "execute_result"
    }
   ],
   "source": [
    "# ¿Todos los valores son iguales a 6? \n",
    "np.all(x == 6)"
   ]
  },
  {
   "cell_type": "markdown",
   "metadata": {},
   "source": [
    "``np.all`` and ``np.any`` se puede usar a lo largo de ejes particulares.\n"
   ]
  },
  {
   "cell_type": "code",
   "execution_count": 30,
   "metadata": {
    "collapsed": false
   },
   "outputs": [
    {
     "data": {
      "text/plain": [
       "array([ True, False,  True])"
      ]
     },
     "execution_count": 30,
     "metadata": {},
     "output_type": "execute_result"
    }
   ],
   "source": [
    "# ¿Todos los valores de cada fila son inferiores a 8? \n",
    "np.all(x < 8, axis=1)"
   ]
  },
  {
   "cell_type": "markdown",
   "metadata": {},
   "source": [
    "Aquí todos los elementos de la primera y tercera fila son menores que 8, mientras que este no es el caso de la segunda fila. "
   ]
  },
  {
   "cell_type": "markdown",
   "metadata": {},
   "source": [
    "Finalmente, una advertencia rápida: como se menciona en Agregaciones: Mín., Máx. y todo lo intermedio, Python tiene incorporadas  funciones``sum()``, ``any()``, y ``all()``. Estos tienen una sintaxis diferente a las versiones de NumPy y, en particular, fallarán o producirán resultados no deseados cuando se usen en arreglos multidimensionales. Asegúrese de que está usando np.sum(), np.any(), y np.all()por estos ejemplos! "
   ]
  },
  {
   "cell_type": "markdown",
   "metadata": {},
   "source": [
    "### Operadores booleanos \n",
    "\n",
    "Ya hemos visto cómo podríamos contar, digamos, todos los días con menos de cuatro pulgadas de lluvia, o todos los días con más de dos pulgadas de lluvia. Pero, ¿qué pasa si queremos saber todos los días con lluvia de menos de cuatro pulgadas y más de una pulgada? Esto se logra a través de los operadores lógicos bit a bit , ``&``, ``|``, ``^``, and ``~``. Al igual que con los operadores aritméticos estándar, NumPy los sobrecarga como ufuncs que funcionan por elementos en matrices (generalmente booleanas). "
   ]
  },
  {
   "cell_type": "code",
   "execution_count": 31,
   "metadata": {
    "collapsed": false
   },
   "outputs": [
    {
     "data": {
      "text/plain": [
       "29"
      ]
     },
     "execution_count": 31,
     "metadata": {},
     "output_type": "execute_result"
    }
   ],
   "source": [
    "np.sum((inches > 0.5) & (inches < 1))"
   ]
  },
  {
   "cell_type": "markdown",
   "metadata": {},
   "source": [
    "Entonces vemos que hay 29 días con precipitaciones entre 0,5 y 1,0 pulgadas. \n",
    "\n",
    "Tenga en cuenta que los paréntesis aquí son importantes: debido a las reglas de precedencia de los operadores, si se eliminan los paréntesis, esta expresión se evaluaría de la siguiente manera, lo que da como resultado un error:\n",
    "\n",
    "``` python\n",
    "inches > (0.5 & inches) < 1\n",
    "```\n",
    "\n",
    "Usando la equivalencia de *A AND B* y *NOT (NOT A OR NOT B)* (que puede recordar si ha tomado un curso de introducción a la lógica), podemos calcular el mismo resultado de una manera diferente: "
   ]
  },
  {
   "cell_type": "code",
   "execution_count": 32,
   "metadata": {
    "collapsed": false
   },
   "outputs": [
    {
     "data": {
      "text/plain": [
       "29"
      ]
     },
     "execution_count": 32,
     "metadata": {},
     "output_type": "execute_result"
    }
   ],
   "source": [
    "np.sum(~( (inches <= 0.5) | (inches >= 1) ))"
   ]
  },
  {
   "cell_type": "markdown",
   "metadata": {},
   "source": [
    "La combinación de operadores de comparación y operadores booleanos en matrices puede conducir a una amplia gama de operaciones lógicas eficientes. "
   ]
  },
  {
   "cell_type": "markdown",
   "metadata": {},
   "source": [
    "Con estas herramientas, podríamos comenzar a responder los tipos de preguntas que tenemos sobre nuestros datos meteorológicos. Estos son algunos ejemplos de resultados que podemos calcular al combinar enmascaramiento con agregaciones:"
   ]
  },
  {
   "cell_type": "code",
   "execution_count": 33,
   "metadata": {
    "collapsed": false
   },
   "outputs": [
    {
     "name": "stdout",
     "output_type": "stream",
     "text": [
      "Number days without rain:       215\n",
      "Number days with rain:          150\n",
      "Days with more than 0.5 inches: 37\n",
      "Rainy days with < 0.2 inches  : 75\n"
     ]
    }
   ],
   "source": [
    "print(\"Number days without rain:      \", np.sum(inches == 0))\n",
    "print(\"Number days with rain:         \", np.sum(inches != 0))\n",
    "print(\"Days with more than 0.5 inches:\", np.sum(inches > 0.5))\n",
    "print(\"Rainy days with < 0.2 inches  :\", np.sum((inches > 0) & (inches < 0.2)))"
   ]
  },
  {
   "cell_type": "markdown",
   "metadata": {},
   "source": [
    "## Arreglos Booleanos como Máscaras \n",
    "\n",
    "En la sección anterior, analizamos los agregados calculados directamente en matrices booleanas. Un patrón más poderoso es usar arreglos booleanos como máscaras, para seleccionar subconjuntos particulares de los datos mismos. Volviendo a nuestra matriz ``x``, supongamos que queremos una matriz de todos los valores en la matriz que son menores que, digamos, 5: "
   ]
  },
  {
   "cell_type": "code",
   "execution_count": 34,
   "metadata": {
    "collapsed": false
   },
   "outputs": [
    {
     "data": {
      "text/plain": [
       "array([[5, 0, 3, 3],\n",
       "       [7, 9, 3, 5],\n",
       "       [2, 4, 7, 6]])"
      ]
     },
     "execution_count": 34,
     "metadata": {},
     "output_type": "execute_result"
    }
   ],
   "source": [
    "x"
   ]
  },
  {
   "cell_type": "markdown",
   "metadata": {},
   "source": [
    "Podemos obtener fácilmente una matriz booleana para esta condición, como ya hemos visto:"
   ]
  },
  {
   "cell_type": "code",
   "execution_count": 35,
   "metadata": {
    "collapsed": false
   },
   "outputs": [
    {
     "data": {
      "text/plain": [
       "array([[False,  True,  True,  True],\n",
       "       [False, False,  True, False],\n",
       "       [ True,  True, False, False]])"
      ]
     },
     "execution_count": 35,
     "metadata": {},
     "output_type": "execute_result"
    }
   ],
   "source": [
    "x < 5"
   ]
  },
  {
   "cell_type": "markdown",
   "metadata": {},
   "source": [
    "Ahora, para *seleccionar* estos valores de la matriz, simplemente podemos indexar en esta matriz booleana; esto se conoce como una enmascaramiento :"
   ]
  },
  {
   "cell_type": "code",
   "execution_count": 36,
   "metadata": {
    "collapsed": false
   },
   "outputs": [
    {
     "data": {
      "text/plain": [
       "array([0, 3, 3, 3, 2, 4])"
      ]
     },
     "execution_count": 36,
     "metadata": {},
     "output_type": "execute_result"
    }
   ],
   "source": [
    "x[x < 5]"
   ]
  },
  {
   "cell_type": "markdown",
   "metadata": {},
   "source": [
    "Lo que se devuelve es una matriz unidimensional llena de todos los valores que cumplen esta condición; en otras palabras, todos los valores en las posiciones en las que se encuentra la matriz de máscaras.``True``.\n",
    "\n",
    "Entonces somos libres de operar sobre estos valores como deseemos. \n",
    "Podemos calcular algunas estadísticas relevantes sobre nuestros datos de lluvia de Seattle: "
   ]
  },
  {
   "cell_type": "code",
   "execution_count": 39,
   "metadata": {
    "collapsed": false
   },
   "outputs": [
    {
     "name": "stdout",
     "output_type": "stream",
     "text": [
      "Precipitación mediana en días lluviosos en 2014 (pulgadas): 0.19488188976377951\n",
      "Precipitación mediana en días de verano en 2014 (pulgadas):  0.0\n",
      "Precipitación máxima en días de verano en 2014 (pulgadas): 0.8503937007874016\n",
      "Precipitación media en días lluviosos que no son de verano (pulgadas): {np.median(inches[rainy & ~summer])}\n"
     ]
    }
   ],
   "source": [
    "# construye una máscara de todos los días\n",
    "rainy = (inches > 0)\n",
    "\n",
    "# construye una máscara de todos los días de verano (el 21 de junio es el día 172)\n",
    "days = np.arange(365)\n",
    "summer = (days > 172) & (days < 262)\n",
    "\n",
    "print(f\"Precipitación mediana en días lluviosos en 2014 (pulgadas): {np.median(inches[rainy])}\")\n",
    "print(f\"Precipitación mediana en días de verano en 2014 (pulgadas):  {np.median(inches[summer])}\")\n",
    "\n",
    "print(f\"Precipitación máxima en días de verano en 2014 (pulgadas): {np.max(inches[summer])}\")\n",
    "print(\"Precipitación media en días lluviosos que no son de verano (pulgadas): {np.median(inches[rainy & ~summer])}\")"
   ]
  },
  {
   "cell_type": "markdown",
   "metadata": {},
   "source": [
    "Al combinar operaciones booleanas, operaciones de enmascaramiento y agregados, podemos responder rápidamente este tipo de preguntas para nuestro conjunto de datos."
   ]
  },
  {
   "cell_type": "markdown",
   "metadata": {},
   "source": [
    "## Aparte: Usando las Palabras Clave *and/or* Contra los Operadores *&/|*\n",
    "\n",
    "\n",
    "Un punto común de confusión es la diferencia entre las palabras clave ``and`` y ``or`` por un lado, y los operadores ``&`` o ``|`` en la otra mano. ¿Cuándo usarías uno versus el otro? \n",
    "\n",
    "La diferencia es esta: ``and`` y ``or`` mide la verdad o la falsedad de todo el objeto , mientras que ``&`` y ``|`` se refieren a bits dentro de cada objeto . \n",
    "\n",
    "Cuando usas ``and`` o ``or``, es equivalente a pedirle a Python que trate el objeto como una sola entidad booleana. En Python, todos los enteros distintos de cero se evaluarán como verdaderos. Por lo tanto: \n"
   ]
  },
  {
   "cell_type": "code",
   "execution_count": 40,
   "metadata": {
    "collapsed": false
   },
   "outputs": [
    {
     "data": {
      "text/plain": [
       "(True, False)"
      ]
     },
     "execution_count": 40,
     "metadata": {},
     "output_type": "execute_result"
    }
   ],
   "source": [
    "bool(42), bool(0)"
   ]
  },
  {
   "cell_type": "code",
   "execution_count": 54,
   "metadata": {
    "collapsed": false
   },
   "outputs": [
    {
     "data": {
      "text/plain": [
       "10"
      ]
     },
     "execution_count": 54,
     "metadata": {},
     "output_type": "execute_result"
    }
   ],
   "source": [
    "bool(5 and 10)"
   ]
  },
  {
   "cell_type": "code",
   "execution_count": 55,
   "metadata": {
    "collapsed": false
   },
   "outputs": [
    {
     "data": {
      "text/plain": [
       "True"
      ]
     },
     "execution_count": 55,
     "metadata": {},
     "output_type": "execute_result"
    }
   ],
   "source": [
    "bool(42 or 0)"
   ]
  },
  {
   "cell_type": "markdown",
   "metadata": {},
   "source": [
    "Cuando usas ``&`` y ``|`` en números enteros, la expresión opera sobre los bits del elemento, aplicando el *and* o el *or* a los bits individuales que componen el número:\n"
   ]
  },
  {
   "cell_type": "code",
   "execution_count": 43,
   "metadata": {
    "collapsed": false
   },
   "outputs": [
    {
     "data": {
      "text/plain": [
       "'0b101010'"
      ]
     },
     "execution_count": 43,
     "metadata": {},
     "output_type": "execute_result"
    }
   ],
   "source": [
    "bin(42)"
   ]
  },
  {
   "cell_type": "code",
   "execution_count": 44,
   "metadata": {
    "collapsed": false
   },
   "outputs": [
    {
     "data": {
      "text/plain": [
       "'0b111011'"
      ]
     },
     "execution_count": 44,
     "metadata": {},
     "output_type": "execute_result"
    }
   ],
   "source": [
    "bin(59) "
   ]
  },
  {
   "cell_type": "code",
   "execution_count": 45,
   "metadata": {
    "collapsed": false
   },
   "outputs": [
    {
     "data": {
      "text/plain": [
       "'0b101010'"
      ]
     },
     "execution_count": 45,
     "metadata": {},
     "output_type": "execute_result"
    }
   ],
   "source": [
    "bin(42 & 59)"
   ]
  },
  {
   "cell_type": "code",
   "execution_count": 46,
   "metadata": {
    "collapsed": false
   },
   "outputs": [
    {
     "data": {
      "text/plain": [
       "'0b111011'"
      ]
     },
     "execution_count": 46,
     "metadata": {},
     "output_type": "execute_result"
    }
   ],
   "source": [
    "bin(42 | 59)"
   ]
  },
  {
   "cell_type": "markdown",
   "metadata": {},
   "source": [
    "Observe que los bits correspondientes de la representación binaria se comparan para obtener el resultado. \n",
    "\n",
    "Cuando tiene una matriz de valores booleanos en NumPy, esto se puede considerar como una cadena de bits donde ``1 = True`` y ``0 = False``, y el resultado de ``&`` and ``|`` opera de manera similar a la anterior: \n"
   ]
  },
  {
   "cell_type": "code",
   "execution_count": 48,
   "metadata": {
    "collapsed": false
   },
   "outputs": [
    {
     "data": {
      "text/plain": [
       "array([ True,  True,  True, False,  True,  True])"
      ]
     },
     "execution_count": 48,
     "metadata": {},
     "output_type": "execute_result"
    }
   ],
   "source": [
    "A = np.array([1, 0, 1, 0, 1, 0], dtype=bool)\n",
    "B = np.array([1, 1, 1, 0, 1, 1], dtype=bool)\n",
    "A | B"
   ]
  },
  {
   "cell_type": "markdown",
   "metadata": {},
   "source": [
    "\n",
    "\n",
    "Utilizando ``or`` en estas matrices intentará evaluar la verdad o la falsedad de todo el objeto de la matriz, que no es un valor bien definido:\n"
   ]
  },
  {
   "cell_type": "code",
   "execution_count": 49,
   "metadata": {
    "collapsed": false
   },
   "outputs": [
    {
     "ename": "ValueError",
     "evalue": "The truth value of an array with more than one element is ambiguous. Use a.any() or a.all()",
     "output_type": "error",
     "traceback": [
      "\u001b[0;31m---------------------------------------------------------------------------\u001b[0m",
      "\u001b[0;31mValueError\u001b[0m                                Traceback (most recent call last)",
      "\u001b[1;32m/home/oscar/Documentos/Python/Ciencia de Datos/Python_DataS_Handbook/numpy/numpy5.ipynb Cell 65'\u001b[0m in \u001b[0;36m<module>\u001b[0;34m\u001b[0m\n\u001b[0;32m----> <a href='vscode-notebook-cell:/home/oscar/Documentos/Python/Ciencia%20de%20Datos/Python_DataS_Handbook/numpy/numpy5.ipynb#ch0000072?line=0'>1</a>\u001b[0m A \u001b[39mor\u001b[39;00m B\n",
      "\u001b[0;31mValueError\u001b[0m: The truth value of an array with more than one element is ambiguous. Use a.any() or a.all()"
     ]
    }
   ],
   "source": [
    "A or B"
   ]
  },
  {
   "cell_type": "markdown",
   "metadata": {},
   "source": [
    "\n",
    "\n",
    "\n",
    "De manera similar, al hacer una expresión booleana en una matriz dada, debe usar ``|`` o ``&`` en vez de ``or`` o ``and``:\n",
    "\n",
    " "
   ]
  },
  {
   "cell_type": "code",
   "execution_count": 52,
   "metadata": {
    "collapsed": false
   },
   "outputs": [
    {
     "data": {
      "text/plain": [
       "array([False, False, False, False, False,  True,  True,  True, False,\n",
       "       False])"
      ]
     },
     "execution_count": 52,
     "metadata": {},
     "output_type": "execute_result"
    }
   ],
   "source": [
    "x = np.arange(10)\n",
    "(x > 4) & (x < 8)"
   ]
  },
  {
   "cell_type": "markdown",
   "metadata": {},
   "source": [
    "\n",
    "\n",
    "Tratar de evaluar la verdad o la falsedad de toda la matriz dará la misma ``ValueError`` vimos anteriormente:\n",
    "\n"
   ]
  },
  {
   "cell_type": "code",
   "execution_count": 56,
   "metadata": {
    "collapsed": false
   },
   "outputs": [
    {
     "ename": "ValueError",
     "evalue": "The truth value of an array with more than one element is ambiguous. Use a.any() or a.all()",
     "output_type": "error",
     "traceback": [
      "\u001b[0;31m---------------------------------------------------------------------------\u001b[0m",
      "\u001b[0;31mValueError\u001b[0m                                Traceback (most recent call last)",
      "\u001b[1;32m/home/oscar/Documentos/Python/Ciencia de Datos/Python_DataS_Handbook/numpy/numpy5.ipynb Cell 69'\u001b[0m in \u001b[0;36m<module>\u001b[0;34m\u001b[0m\n\u001b[0;32m----> <a href='vscode-notebook-cell:/home/oscar/Documentos/Python/Ciencia%20de%20Datos/Python_DataS_Handbook/numpy/numpy5.ipynb#ch0000076?line=0'>1</a>\u001b[0m (x \u001b[39m>\u001b[39m \u001b[39m4\u001b[39m) \u001b[39mand\u001b[39;00m (x \u001b[39m<\u001b[39m \u001b[39m8\u001b[39m)\n",
      "\u001b[0;31mValueError\u001b[0m: The truth value of an array with more than one element is ambiguous. Use a.any() or a.all()"
     ]
    }
   ],
   "source": [
    "(x > 4) and (x < 8)"
   ]
  },
  {
   "cell_type": "code",
   "execution_count": null,
   "metadata": {},
   "outputs": [],
   "source": []
  }
 ],
 "metadata": {
  "interpreter": {
   "hash": "2576be1e3638b6e131e61d6112fad6c456d8bc880e81a5fcaa34bfa82a9be1a5"
  },
  "kernelspec": {
   "display_name": "Python 3.8.10 64-bit ('dataSci': venv)",
   "language": "python",
   "name": "python3"
  },
  "language_info": {
   "codemirror_mode": {
    "name": "ipython",
    "version": 3
   },
   "file_extension": ".py",
   "mimetype": "text/x-python",
   "name": "python",
   "nbconvert_exporter": "python",
   "pygments_lexer": "ipython3",
   "version": "3.8.10"
  },
  "orig_nbformat": 4
 },
 "nbformat": 4,
 "nbformat_minor": 2
}
