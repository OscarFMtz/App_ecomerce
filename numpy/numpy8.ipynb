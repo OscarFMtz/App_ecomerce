{
 "cells": [
  {
   "cell_type": "markdown",
   "metadata": {},
   "source": [
    "# Datos estructurados: Arrays estructurados de NumPy"
   ]
  },
  {
   "cell_type": "markdown",
   "metadata": {},
   "source": [
    "Uso de arrays *estructuradas* y *registros*, que brindan un almacenamiento eficiente para datos compuestos y heterogéneos. Si bien los patrones que se muestran aquí son útiles para operaciones simples, escenarios como este a menudo se prestan al uso de Pandas. ``Dataframe``, que exploraremos en el Capítulo 3 ."
   ]
  },
  {
   "cell_type": "code",
   "execution_count": null,
   "metadata": {
    "collapsed": true
   },
   "outputs": [],
   "source": [
    "import numpy as np"
   ]
  },
  {
   "cell_type": "markdown",
   "metadata": {},
   "source": [
    "Imagine que tenemos varias categorías de datos sobre varias personas (digamos, nombre, edad y peso) y nos gustaría almacenar estos valores para usarlos en un programa de Python. Sería posible almacenarlos en tres matrices separadas:"
   ]
  },
  {
   "cell_type": "code",
   "execution_count": null,
   "metadata": {
    "collapsed": false
   },
   "outputs": [],
   "source": [
    "name = ['Alice', 'Bob', 'Cathy', 'Doug']\n",
    "age = [25, 45, 37, 19]\n",
    "weight = [55.0, 85.5, 68.0, 61.5]"
   ]
  },
  {
   "cell_type": "markdown",
   "metadata": {},
   "source": [
    "\n",
    "\n",
    "Pero esto es un poco torpe. No hay nada aquí que nos diga que las tres matrices están relacionadas; sería más natural si pudiéramos usar una sola estructura para almacenar todos estos datos. NumPy puede manejar esto a través de matrices estructuradas, que son matrices con tipos de datos compuestos.\n",
    "\n",
    "Recuerde que anteriormente creamos una matriz simple usando una expresión como esta:\n"
   ]
  },
  {
   "cell_type": "code",
   "execution_count": null,
   "metadata": {
    "collapsed": false
   },
   "outputs": [],
   "source": [
    "x = np.zeros(4, dtype=int)"
   ]
  },
  {
   "cell_type": "markdown",
   "metadata": {},
   "source": [
    "De manera similar, podemos crear una matriz estructurada utilizando una especificación de tipo de datos compuesto:"
   ]
  },
  {
   "cell_type": "code",
   "execution_count": null,
   "metadata": {
    "collapsed": false
   },
   "outputs": [
    {
     "name": "stdout",
     "output_type": "stream",
     "text": [
      "[('name', '<U10'), ('age', '<i4'), ('weight', '<f8')]\n"
     ]
    }
   ],
   "source": [
    "# Use a compound data type for structured arrays\n",
    "data = np.zeros(4, dtype={'names':('name', 'age', 'weight'),\n",
    "                          'formats':('U10', 'i4', 'f8')})\n",
    "print(data.dtype)"
   ]
  },
  {
   "cell_type": "markdown",
   "metadata": {},
   "source": [
    "Aquí ``'U10'`` se traduce como \"Cadena Unicode de longitud máxima 10\", ``'i4'`` se traduce como \"entero de 4 bytes (es decir, 32 bits)\", y ``'f8'`` se traduce como \"flotante de 8 bytes (es decir, 64 bits)\". Discutiremos otras opciones para estos códigos de tipo en la siguiente sección. \n",
    "\n",
    "Ahora que hemos creado una matriz de contenedores vacía, podemos llenar la matriz con nuestras listas de valores: "
   ]
  },
  {
   "cell_type": "code",
   "execution_count": null,
   "metadata": {
    "collapsed": false
   },
   "outputs": [
    {
     "name": "stdout",
     "output_type": "stream",
     "text": [
      "[('Alice', 25, 55.0) ('Bob', 45, 85.5) ('Cathy', 37, 68.0)\n",
      " ('Doug', 19, 61.5)]\n"
     ]
    }
   ],
   "source": [
    "data['name'] = name\n",
    "data['age'] = age\n",
    "data['weight'] = weight\n",
    "print(data)"
   ]
  },
  {
   "cell_type": "markdown",
   "metadata": {},
   "source": [
    "Como esperábamos, los datos ahora están organizados juntos en un conveniente bloque de memoria.\n",
    "\n",
    "Lo útil con las matrices estructuradas es que ahora puede hacer referencia a los valores por índice o por nombre:"
   ]
  },
  {
   "cell_type": "code",
   "execution_count": null,
   "metadata": {
    "collapsed": false
   },
   "outputs": [
    {
     "data": {
      "text/plain": [
       "array(['Alice', 'Bob', 'Cathy', 'Doug'], \n",
       "      dtype='<U10')"
      ]
     },
     "metadata": {},
     "output_type": "display_data"
    }
   ],
   "source": [
    "# Get all names\n",
    "data['name']"
   ]
  },
  {
   "cell_type": "code",
   "execution_count": null,
   "metadata": {
    "collapsed": false
   },
   "outputs": [
    {
     "data": {
      "text/plain": [
       "('Alice', 25, 55.0)"
      ]
     },
     "metadata": {},
     "output_type": "display_data"
    }
   ],
   "source": [
    "# Get first row of data\n",
    "data[0]"
   ]
  },
  {
   "cell_type": "code",
   "execution_count": null,
   "metadata": {
    "collapsed": false
   },
   "outputs": [
    {
     "data": {
      "text/plain": [
       "'Doug'"
      ]
     },
     "metadata": {},
     "output_type": "display_data"
    }
   ],
   "source": [
    "# Get the name from the last row\n",
    "data[-1]['name']"
   ]
  },
  {
   "cell_type": "markdown",
   "metadata": {},
   "source": [
    "Using Boolean masking, this even allows you to do some more sophisticated operations such as filtering on age:"
   ]
  },
  {
   "cell_type": "code",
   "execution_count": null,
   "metadata": {
    "collapsed": false
   },
   "outputs": [
    {
     "data": {
      "text/plain": [
       "array(['Alice', 'Doug'], \n",
       "      dtype='<U10')"
      ]
     },
     "metadata": {},
     "output_type": "display_data"
    }
   ],
   "source": [
    "# Get names where age is under 30\n",
    "data[data['age'] < 30]['name']"
   ]
  },
  {
   "cell_type": "markdown",
   "metadata": {},
   "source": [
    "\n",
    "Tenga en cuenta que si desea realizar operaciones más complicadas que estas, probablemente debería considerar el paquete Pandas, que se trata en el próximo capítulo. Como veremos, Pandas ofrece un objecto Dataframe, que es una estructura construida sobre arreglos NumPy que ofrece una variedad de funciones útiles de manipulación de datos similares a las que mostramos aquí, así como mucho, mucho más."
   ]
  },
  {
   "cell_type": "markdown",
   "metadata": {},
   "source": [
    "## Crear Arrays estructurados\n",
    "\n",
    "Los tipos de datos de matriz estructurada se pueden especificar de varias maneras. Anteriormente, vimos el método del diccionario: "
   ]
  },
  {
   "cell_type": "code",
   "execution_count": null,
   "metadata": {
    "collapsed": false
   },
   "outputs": [
    {
     "data": {
      "text/plain": [
       "dtype([('name', '<U10'), ('age', '<i4'), ('weight', '<f8')])"
      ]
     },
     "metadata": {},
     "output_type": "display_data"
    }
   ],
   "source": [
    "np.dtype({'names':('name', 'age', 'weight'),\n",
    "          'formats':('U10', 'i4', 'f8')})"
   ]
  },
  {
   "cell_type": "markdown",
   "metadata": {},
   "source": [
    "Para mayor claridad, los tipos numéricos se pueden especificar usando tipos de Python o NumPy ``dtype`` en cambio:"
   ]
  },
  {
   "cell_type": "code",
   "execution_count": null,
   "metadata": {
    "collapsed": false
   },
   "outputs": [
    {
     "data": {
      "text/plain": [
       "dtype([('name', '<U10'), ('age', '<i8'), ('weight', '<f4')])"
      ]
     },
     "metadata": {},
     "output_type": "display_data"
    }
   ],
   "source": [
    "np.dtype({'names':('name', 'age', 'weight'),\n",
    "          'formats':((np.str_, 10), int, np.float32)})"
   ]
  },
  {
   "cell_type": "markdown",
   "metadata": {},
   "source": [
    "Un tipo compuesto también se puede especificar como una lista de tuplas:"
   ]
  },
  {
   "cell_type": "code",
   "execution_count": null,
   "metadata": {
    "collapsed": false
   },
   "outputs": [
    {
     "data": {
      "text/plain": [
       "dtype([('name', 'S10'), ('age', '<i4'), ('weight', '<f8')])"
      ]
     },
     "metadata": {},
     "output_type": "display_data"
    }
   ],
   "source": [
    "np.dtype([('name', 'S10'), ('age', 'i4'), ('weight', 'f8')])"
   ]
  },
  {
   "cell_type": "markdown",
   "metadata": {},
   "source": [
    "Si los nombres de los tipos no le importan, puede especificar los tipos solos en una cadena separada por comas:"
   ]
  },
  {
   "cell_type": "code",
   "execution_count": null,
   "metadata": {
    "collapsed": false
   },
   "outputs": [
    {
     "data": {
      "text/plain": [
       "dtype([('f0', 'S10'), ('f1', '<i4'), ('f2', '<f8')])"
      ]
     },
     "metadata": {},
     "output_type": "display_data"
    }
   ],
   "source": [
    "np.dtype('S10,i4,f8')"
   ]
  },
  {
   "cell_type": "markdown",
   "metadata": {},
   "source": [
    "Los códigos de formato de cadena abreviada pueden parecer confusos, pero se basan en principios simples. El primer carácter (opcional) es ``<`` o ``>``, que significa \"little endian\" o \"big endian\", respectivamente, y especifica la convención de ordenación de bits significativos. El siguiente carácter especifica el tipo de datos: caracteres, bytes, enteros, puntos flotantes, etc. (consulte la tabla a continuación). El último carácter o caracteres representa el tamaño del objeto en bytes. \n",
    "\n",
    "| Character        | Description           | Example                             |\n",
    "| ---------        | -----------           | -------                             | \n",
    "| ``'b'``          | Byte                  | ``np.dtype('b')``                   |\n",
    "| ``'i'``          | Signed integer        | ``np.dtype('i4') == np.int32``      |\n",
    "| ``'u'``          | Unsigned integer      | ``np.dtype('u1') == np.uint8``      |\n",
    "| ``'f'``          | Floating point        | ``np.dtype('f8') == np.int64``      |\n",
    "| ``'c'``          | Complex floating point| ``np.dtype('c16') == np.complex128``|\n",
    "| ``'S'``, ``'a'`` | String                | ``np.dtype('S5')``                  |\n",
    "| ``'U'``          | Unicode string        | ``np.dtype('U') == np.str_``        |\n",
    "| ``'V'``          | Raw data (void)       | ``np.dtype('V') == np.void``        |"
   ]
  },
  {
   "cell_type": "markdown",
   "metadata": {},
   "source": [
    "## Tipos de compuestos más avanzados \n",
    "\n",
    "Es posible definir tipos de compuestos aún más avanzados. Por ejemplo, puede crear un tipo donde cada elemento contenga una matriz o matriz de valores. Aquí, crearemos un tipo de datos con un componente ``mat`` que consiste en un $3\\times 3$ matriz de coma flotante: "
   ]
  },
  {
   "cell_type": "code",
   "execution_count": null,
   "metadata": {
    "collapsed": false
   },
   "outputs": [
    {
     "name": "stdout",
     "output_type": "stream",
     "text": [
      "(0, [[0.0, 0.0, 0.0], [0.0, 0.0, 0.0], [0.0, 0.0, 0.0]])\n",
      "[[ 0.  0.  0.]\n",
      " [ 0.  0.  0.]\n",
      " [ 0.  0.  0.]]\n"
     ]
    }
   ],
   "source": [
    "tp = np.dtype([('id', 'i8'), ('mat', 'f8', (3, 3))])\n",
    "X = np.zeros(1, dtype=tp)\n",
    "print(X[0])\n",
    "print(X['mat'][0])"
   ]
  },
  {
   "cell_type": "markdown",
   "metadata": {},
   "source": [
    "Ahora cada elemento en el ``X`` matriz consta de un ``id`` y una matriz de $3\\times 3$ . ¿Por qué usaría esto en lugar de una matriz multidimensional simple, o quizás un diccionario de Python? La razón es que este NumPy ``dtype`` se asigna directamente a una definición de estructura C, por lo que se puede acceder directamente al búfer que contiene el contenido de la matriz dentro de un programa C escrito apropiadamente. Si se encuentra escribiendo una interfaz de Python en una biblioteca C o Fortran heredada que manipula datos estructurados, ¡probablemente encontrará matrices estructuradas muy útiles! "
   ]
  },
  {
   "cell_type": "markdown",
   "metadata": {},
   "source": [
    "## RecordArrays: matrices estructuradas con un giro\n",
    "\n",
    "NumPy también proporciona la clase ``np.recarray`` , que es casi idéntica a las matrices estructuradas que se acaban de describir, pero con una característica adicional: se puede acceder a los campos como atributos en lugar de como claves de diccionario. Recordemos que anteriormente accedíamos a las edades escribiendo: \n"
   ]
  },
  {
   "cell_type": "code",
   "execution_count": null,
   "metadata": {
    "collapsed": false
   },
   "outputs": [
    {
     "data": {
      "text/plain": [
       "array([25, 45, 37, 19], dtype=int32)"
      ]
     },
     "metadata": {},
     "output_type": "display_data"
    }
   ],
   "source": [
    "data['age']"
   ]
  },
  {
   "cell_type": "markdown",
   "metadata": {},
   "source": [
    "Si vemos nuestros datos como una matriz de registros, podemos acceder a esto con un poco menos de pulsaciones de teclas:"
   ]
  },
  {
   "cell_type": "code",
   "execution_count": null,
   "metadata": {
    "collapsed": false
   },
   "outputs": [
    {
     "data": {
      "text/plain": [
       "array([25, 45, 37, 19], dtype=int32)"
      ]
     },
     "metadata": {},
     "output_type": "display_data"
    }
   ],
   "source": [
    "data_rec = data.view(np.recarray)\n",
    "data_rec.age"
   ]
  },
  {
   "cell_type": "markdown",
   "metadata": {},
   "source": [
    "La desventaja es que para las matrices de registros, hay una sobrecarga adicional involucrada en el acceso a los campos, incluso cuando se usa la misma sintaxis. Esto lo podemos ver aquí:"
   ]
  },
  {
   "cell_type": "code",
   "execution_count": null,
   "metadata": {
    "collapsed": false
   },
   "outputs": [
    {
     "name": "stdout",
     "output_type": "stream",
     "text": [
      "1000000 loops, best of 3: 241 ns per loop\n",
      "100000 loops, best of 3: 4.61 µs per loop\n",
      "100000 loops, best of 3: 7.27 µs per loop\n"
     ]
    }
   ],
   "source": [
    "%timeit data['age']\n",
    "%timeit data_rec['age']\n",
    "%timeit data_rec.age"
   ]
  },
  {
   "cell_type": "markdown",
   "metadata": {},
   "source": [
    "Si la notación más conveniente vale la pena la sobrecarga adicional dependerá de su propia aplicación."
   ]
  },
  {
   "cell_type": "markdown",
   "metadata": {},
   "source": [
    "## On to Pandas\n",
    "\n",
    "Esta sección sobre matrices estructuradas y de registros se encuentra deliberadamente al final de este capítulo, porque conduce muy bien al siguiente paquete que cubriremos: Pandas. Es bueno conocer las matrices estructuradas como las que se analizan aquí para ciertas situaciones, especialmente en caso de que esté usando matrices NumPy para mapear en formatos de datos binarios en C, Fortran u otro idioma. Para el uso diario de datos estructurados, el paquete Pandas es una opción mucho mejor, y nos sumergiremos en una discusión completa en el capítulo siguiente. "
   ]
  }
 ],
 "metadata": {
  "language_info": {
   "name": "python"
  },
  "orig_nbformat": 4
 },
 "nbformat": 4,
 "nbformat_minor": 2
}
