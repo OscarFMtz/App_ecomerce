{
 "cells": [
  {
   "cell_type": "markdown",
   "metadata": {
    "id": "S_Ch-I3frC4H"
   },
   "source": [
    "# Agregaciones: Mín., Máx. y demás\n"
   ]
  },
  {
   "cell_type": "markdown",
   "metadata": {
    "id": "QmqPhLLIrC4K"
   },
   "source": [
    "A menudo, cuando se enfrenta a una gran cantidad de datos, el primer paso es calcular estadísticas de resumen para los datos en cuestión. Quizás las estadísticas de resumen más comunes son la media y la desviación estándar, que le permiten resumir los valores \"típicos\" en un conjunto de datos, pero también son útiles otros agregados (la suma, el producto, la mediana, el mínimo y el máximo, los cuantiles, etc.).\n",
    "\n",
    "NumPy tiene funciones de agregación integradas rápidas para trabajar en arreglos; discutiremos y demostraremos algunos de ellos aquí."
   ]
  },
  {
   "cell_type": "markdown",
   "metadata": {
    "id": "R8OBf19FrC4N"
   },
   "source": [
    "## Sumar los valores en un arreglo ¶\n"
   ]
  },
  {
   "cell_type": "markdown",
   "metadata": {},
   "source": [
    "Como ejemplo rápido, considere calcular la suma de todos los valores en una matriz. Python mismo puede hacer esto usando la función incorporada 'sum'."
   ]
  },
  {
   "cell_type": "code",
   "execution_count": 1,
   "metadata": {
    "id": "iZ1uZLRyrC4Q"
   },
   "outputs": [],
   "source": [
    "import numpy as np"
   ]
  },
  {
   "cell_type": "code",
   "execution_count": 2,
   "metadata": {
    "id": "5l1WxbFdrC4T",
    "outputId": "732a4b3c-81ce-49fc-948e-4f419d716ad9"
   },
   "outputs": [
    {
     "data": {
      "text/plain": [
       "47.37045695377346"
      ]
     },
     "execution_count": 2,
     "metadata": {},
     "output_type": "execute_result"
    }
   ],
   "source": [
    "L = np.random.random(100)\n",
    "sum(L)"
   ]
  },
  {
   "cell_type": "markdown",
   "metadata": {
    "id": "2oyIHYKqrC4W"
   },
   "source": [
    "La sintaxis es bastante similar a la de NumPy sum función, y el resultado es el mismo en el caso más simple:"
   ]
  },
  {
   "cell_type": "code",
   "execution_count": 3,
   "metadata": {
    "id": "9SGTBSgsrC4Y",
    "outputId": "3d2256f3-0c95-46d4-b9d8-587cf8e6d64a"
   },
   "outputs": [
    {
     "data": {
      "text/plain": [
       "47.37045695377346"
      ]
     },
     "execution_count": 3,
     "metadata": {},
     "output_type": "execute_result"
    }
   ],
   "source": [
    "np.sum(L)"
   ]
  },
  {
   "cell_type": "markdown",
   "metadata": {
    "id": "c_cGsjLlrC4d"
   },
   "source": [
    "Sin embargo, debido a que ejecuta la operación en código compilado, la versión de la operación de NumPy se calcula mucho más rápido:"
   ]
  },
  {
   "cell_type": "code",
   "execution_count": 11,
   "metadata": {
    "id": "qlXKyn0krC4e",
    "outputId": "7180571f-b6f8-4b0d-d2b9-7b31f667ac21"
   },
   "outputs": [
    {
     "name": "stdout",
     "output_type": "stream",
     "text": [
      "146 ms ± 3.96 ms per loop (mean ± std. dev. of 7 runs, 10 loops each)\n",
      "1.61 ms ± 27.8 µs per loop (mean ± std. dev. of 7 runs, 1,000 loops each)\n",
      "1.59 ms ± 48.1 µs per loop (mean ± std. dev. of 7 runs, 1,000 loops each)\n"
     ]
    }
   ],
   "source": [
    "big_array = np.random.rand(1000000)\n",
    "%timeit sum(big_array)\n",
    "%timeit np.sum(big_array)\n",
    "%timeit np.add.reduce(big_array)"
   ]
  },
  {
   "cell_type": "code",
   "execution_count": 14,
   "metadata": {},
   "outputs": [
    {
     "name": "stdout",
     "output_type": "stream",
     "text": [
      "500085.06163116667 = 500085.06163116667\n"
     ]
    }
   ],
   "source": [
    "print(f'{np.sum(big_array)} = {np.add.reduce(big_array)}')"
   ]
  },
  {
   "cell_type": "markdown",
   "metadata": {
    "id": "gl7CdJ9brC4i"
   },
   "source": [
    "Sin embargo, tenga cuidado: la función ``sum``  y la función ``np.sum`` no son idénticas.\n",
    "\n",
    "En particular, sus argumentos opcionales tienen diferentes significados, y ``np.sum`` es consciente de múltiples dimensiones de matriz, como veremos en la siguiente sección."
   ]
  },
  {
   "cell_type": "markdown",
   "metadata": {
    "id": "tjNH5qSorC4k"
   },
   "source": [
    "## Mínimo y Máximo ¶\n",
    "De manera similar, Python ha incorporado funciones ``min`` y ``max``, utilizadas para encontrar el valor mínimo y el valor máximo de cualquier matriz dada: "
   ]
  },
  {
   "cell_type": "code",
   "execution_count": 13,
   "metadata": {
    "id": "rgMfhmTtrC4n",
    "outputId": "a1b18dcc-a450-49fa-aeda-72c7f67ec5f5"
   },
   "outputs": [
    {
     "data": {
      "text/plain": [
       "(4.987644720566564e-07, 0.9999985125960063)"
      ]
     },
     "execution_count": 13,
     "metadata": {},
     "output_type": "execute_result"
    }
   ],
   "source": [
    "min(big_array), max(big_array)"
   ]
  },
  {
   "cell_type": "markdown",
   "metadata": {
    "id": "OjwIrikYrC4p"
   },
   "source": [
    "Las funciones correspondientes de NumPy tienen una sintaxis similar y, de nuevo, funcionan mucho más rápido:"
   ]
  },
  {
   "cell_type": "code",
   "execution_count": 12,
   "metadata": {
    "id": "VcmLqYk8rC4q",
    "outputId": "79ae3b86-f07b-4a65-9ef8-c94d5ab54ca6"
   },
   "outputs": [
    {
     "data": {
      "text/plain": [
       "(4.987644720566564e-07, 0.9999985125960063)"
      ]
     },
     "execution_count": 12,
     "metadata": {},
     "output_type": "execute_result"
    }
   ],
   "source": [
    "np.min(big_array), np.max(big_array)"
   ]
  },
  {
   "cell_type": "code",
   "execution_count": 15,
   "metadata": {
    "id": "ByXP0XROrC4s",
    "outputId": "7d85e156-f19a-4e98-a252-47669029aa4e"
   },
   "outputs": [
    {
     "name": "stdout",
     "output_type": "stream",
     "text": [
      "88.5 ms ± 2.31 ms per loop (mean ± std. dev. of 7 runs, 10 loops each)\n",
      "1.45 ms ± 55.1 µs per loop (mean ± std. dev. of 7 runs, 1,000 loops each)\n"
     ]
    }
   ],
   "source": [
    "%timeit min(big_array)\n",
    "%timeit np.min(big_array)"
   ]
  },
  {
   "cell_type": "markdown",
   "metadata": {
    "id": "xRCOxDUsrC4v"
   },
   "source": [
    "Para ``min``, ``max``, ``sum``, y varios otros agregados de NumPy, una sintaxis más corta es usar métodos del propio objeto de array"
   ]
  },
  {
   "cell_type": "code",
   "execution_count": 16,
   "metadata": {
    "id": "42QLaKwGrC4w",
    "outputId": "a6c8a0ea-0eb4-4415-dde2-149d70fe5dfe"
   },
   "outputs": [
    {
     "name": "stdout",
     "output_type": "stream",
     "text": [
      "4.987644720566564e-07 0.9999985125960063 500085.06163116667\n"
     ]
    }
   ],
   "source": [
    "print(big_array.min(), big_array.max(), big_array.sum())"
   ]
  },
  {
   "cell_type": "markdown",
   "metadata": {
    "id": "AdkoD-y8rC4y"
   },
   "source": [
    "Siempre que sea posible, asegúrese de estar utilizando la versión NumPy de estos agregados cuando opere en arreglos NumPy."
   ]
  },
  {
   "cell_type": "markdown",
   "metadata": {
    "id": "ftgMoa3GrC40"
   },
   "source": [
    "### Agregados multidimensionales\n",
    "\n",
    "Un tipo común de operación de agregación es un agregado a lo largo de una fila o columna."
   ]
  },
  {
   "cell_type": "code",
   "execution_count": 17,
   "metadata": {
    "id": "vNCoCWxfrC41",
    "outputId": "edc5fa9d-0089-4e55-c536-d3f1c48cf532"
   },
   "outputs": [
    {
     "name": "stdout",
     "output_type": "stream",
     "text": [
      "[[0.5629136  0.98265867 0.45579129 0.04124412]\n",
      " [0.78171306 0.50692199 0.13759736 0.54122958]\n",
      " [0.99246943 0.29604191 0.72292268 0.29514903]]\n"
     ]
    }
   ],
   "source": [
    "M = np.random.random((3, 4))\n",
    "print(M)"
   ]
  },
  {
   "cell_type": "markdown",
   "metadata": {
    "id": "b3ziV1GdrC43"
   },
   "source": [
    "De forma predeterminada, cada función de agregación de NumPy devolverá el agregado sobre toda la matriz:"
   ]
  },
  {
   "cell_type": "code",
   "execution_count": 18,
   "metadata": {
    "id": "45QQzQ0mrC44",
    "outputId": "4cc3f47a-53bf-4b83-c4ad-c8c2ba36f464"
   },
   "outputs": [
    {
     "data": {
      "text/plain": [
       "6.316652735016053"
      ]
     },
     "execution_count": 18,
     "metadata": {},
     "output_type": "execute_result"
    }
   ],
   "source": [
    "M.sum()"
   ]
  },
  {
   "cell_type": "markdown",
   "metadata": {
    "id": "YC0sOIMqrC47"
   },
   "source": [
    "Las funciones de agregación toman un argumento adicional que especifica el eje a lo largo del cual se calcula el agregado. \n",
    "\n",
    "Por ejemplo, podemos encontrar el valor mínimo dentro de cada columna especificando ``axis=0``:\n"
   ]
  },
  {
   "cell_type": "code",
   "execution_count": 19,
   "metadata": {
    "id": "16EXrFcQrC47",
    "outputId": "d7dddd69-4489-40bc-a6a0-be1c9f0176de"
   },
   "outputs": [
    {
     "data": {
      "text/plain": [
       "array([0.5629136 , 0.29604191, 0.13759736, 0.04124412])"
      ]
     },
     "execution_count": 19,
     "metadata": {},
     "output_type": "execute_result"
    }
   ],
   "source": [
    "M.min(axis=0)"
   ]
  },
  {
   "cell_type": "markdown",
   "metadata": {
    "id": "wn0KUIqvrC49"
   },
   "source": [
    "La función devuelve cuatro valores, correspondientes a las cuatro columnas de números. \n",
    "\n",
    "Del mismo modo, podemos encontrar el valor máximo dentro de cada fila: "
   ]
  },
  {
   "cell_type": "code",
   "execution_count": 20,
   "metadata": {
    "id": "SFKcPsTPrC4-",
    "outputId": "60725b69-5e9a-4869-b7e5-599aceabc98f"
   },
   "outputs": [
    {
     "data": {
      "text/plain": [
       "array([0.98265867, 0.78171306, 0.99246943])"
      ]
     },
     "execution_count": 20,
     "metadata": {},
     "output_type": "execute_result"
    }
   ],
   "source": [
    "M.max(axis=1)"
   ]
  },
  {
   "cell_type": "markdown",
   "metadata": {
    "id": "MepbyTQOrC5A"
   },
   "source": [
    "La forma en que se especifica el eje aquí puede resultar confusa para los usuarios que provienen de otros idiomas. La palabra clave ``axis`` especifica la dimensión de la matriz que se contraerá, en lugar de la dimensión que se devolverá. \n",
    "\n",
    "Entonces especificando ``axis=0`` significa que el primer eje se colapsará: para arreglos bidimensionales, esto significa que los valores dentro de cada columna se agregarán."
   ]
  },
  {
   "cell_type": "markdown",
   "metadata": {},
   "source": [
    "### Otras funciones de agregación "
   ]
  },
  {
   "cell_type": "markdown",
   "metadata": {},
   "source": [
    "NumPy proporciona muchas otras funciones de agregación, pero no las discutiremos en detalle aquí. Además, la mayoría de los agregados tienen una ``NaN``-equivalente seguro que calcula el resultado ignorando los valores faltantes, que están marcados por el punto flotante especial IEEE ``NaN`` valor. Algunos de estos ``NaN``-Las funciones seguras no se agregaron hasta NumPy 1.8, por lo que no estarán disponibles en versiones anteriores de NumPy. "
   ]
  },
  {
   "cell_type": "markdown",
   "metadata": {
    "id": "ovyhmZuMrC5B"
   },
   "source": [
    "La siguiente tabla proporciona una lista de funciones de agregación útiles disponibles en NumPy: \n",
    "\n",
    "|Function Name      |   NaN-safe Version  | Description                                   |\n",
    "|-------------------|---------------------|-----------------------------------------------|\n",
    "| ``np.sum``        | ``np.nansum``       | Calcular suma de elementos                    |\n",
    "| ``np.prod``       | ``np.nanprod``      | Calcular el producto de los elementos         |\n",
    "| ``np.mean``       | ``np.nanmean``      | Calcular media de elementos                   |\n",
    "| ``np.std``        | ``np.nanstd``       | Calcular desviación estandar                  |\n",
    "| ``np.var``        | ``np.nanvar``       | Calcular varianza                             |\n",
    "| ``np.min``        | ``np.nanmin``       | Encuentra valor mínimo                        |\n",
    "| ``np.max``        | ``np.nanmax``       | Encuentra valor maximo                        |\n",
    "| ``np.argmin``     | ``np.nanargmin``    | Encuentra índice de valor mínimo              |\n",
    "| ``np.argmax``     | ``np.nanargmax``    | Encuentra índice de valor máximo              |\n",
    "| ``np.median``     | ``np.nanmedian``    | Calcular la mediana de los elementos          |\n",
    "| ``np.percentile`` | ``np.nanpercentile``| Calcular rank-based statistics of elementos   |\n",
    "| ``np.any``        | N/A                 | Evaluar si algún elemento es verdadero        |\n",
    "| ``np.all``        | N/A                 | Evaluar si todos los elementos son verdadero  |\n",
    "\n",
    "Veremos estos agregados a menudo a lo largo del resto del libro. "
   ]
  },
  {
   "cell_type": "markdown",
   "metadata": {
    "id": "oR9TcqKOrC5D"
   },
   "source": [
    "## Ejemplo: ¿Cuál es la altura promedio de los presidentes de EE. UU.? ¶\n"
   ]
  },
  {
   "cell_type": "markdown",
   "metadata": {
    "id": "UFz_J14FrC5E"
   },
   "source": [
    "Los agregados disponibles en NumPy pueden ser extremadamente útiles para resumir un conjunto de valores. Como ejemplo simple, consideremos las alturas de todos los presidentes de EE. UU. Estos datos están disponibles en el archivo *president_heights.csv*, que es una lista simple de etiquetas y valores separados por comas:"
   ]
  },
  {
   "cell_type": "code",
   "execution_count": 23,
   "metadata": {
    "id": "xSvmh7IXrC5G",
    "outputId": "11879031-d4ff-4190-cad1-d1b439c754d6"
   },
   "outputs": [
    {
     "name": "stdout",
     "output_type": "stream",
     "text": [
      "order,name,height(cm)\n",
      "1,George Washington,189\n",
      "2,John Adams,170\n",
      "3,Thomas Jefferson,189\n"
     ]
    }
   ],
   "source": [
    "!head -4 ../data/president_heights.csv"
   ]
  },
  {
   "cell_type": "markdown",
   "metadata": {
    "id": "weZ1rqZtrC5I"
   },
   "source": [
    "Usaremos el paquete Pandas, que exploraremos con más detalle en Capítulo 3 , para leer el archivo y extraer esta información (tenga en cuenta que las alturas se miden en centímetros)."
   ]
  },
  {
   "cell_type": "code",
   "execution_count": 24,
   "metadata": {
    "id": "CfbSnlJ6rC5K",
    "outputId": "213c321c-7ac7-44c2-d10c-936906bf3153"
   },
   "outputs": [
    {
     "name": "stdout",
     "output_type": "stream",
     "text": [
      "[189 170 189 163 183 171 185 168 173 183 173 173 175 178 183 193 178 173\n",
      " 174 183 183 168 170 178 182 180 183 178 182 188 175 179 183 193 182 183\n",
      " 177 185 188 188 182 185]\n"
     ]
    }
   ],
   "source": [
    "import pandas as pd\n",
    "data = pd.read_csv('../data/president_heights.csv')\n",
    "heights = np.array(data['height(cm)'])\n",
    "print(heights)"
   ]
  },
  {
   "cell_type": "markdown",
   "metadata": {
    "id": "mjJXaQM5rC5M"
   },
   "source": [
    "Ahora que tenemos esta matriz de datos, podemos calcular una variedad de estadísticas de resumen:"
   ]
  },
  {
   "cell_type": "code",
   "execution_count": 25,
   "metadata": {
    "id": "nYJJMi5prC5M",
    "outputId": "f233cc2e-cd4d-4672-cdd0-d273c365c8e9"
   },
   "outputs": [
    {
     "name": "stdout",
     "output_type": "stream",
     "text": [
      "Mean height:        179.73809523809524\n",
      "Standard deviation: 6.931843442745892\n",
      "Minimum height:     163\n",
      "Maximum height:     193\n"
     ]
    }
   ],
   "source": [
    "print(\"Mean height:       \", heights.mean())\n",
    "print(\"Standard deviation:\", heights.std())\n",
    "print(\"Minimum height:    \", heights.min())\n",
    "print(\"Maximum height:    \", heights.max())"
   ]
  },
  {
   "cell_type": "markdown",
   "metadata": {
    "id": "FsFHjCL-rC5O"
   },
   "source": [
    "Tenga en cuenta que en cada caso, la operación de agregación redujo la matriz completa a un solo valor de resumen, lo que nos brinda información sobre la distribución de valores. También podemos desear calcular cuantiles:"
   ]
  },
  {
   "cell_type": "code",
   "execution_count": null,
   "metadata": {
    "id": "-Yl2YVwNrC5P",
    "outputId": "77f82c8f-d1c3-41ee-9551-63c599d8fbda"
   },
   "outputs": [
    {
     "name": "stdout",
     "output_type": "stream",
     "text": [
      "25th percentile:    174.25\n",
      "Median:             182.0\n",
      "75th percentile:    183.0\n"
     ]
    }
   ],
   "source": [
    "print(\"25th percentile:   \", np.percentile(heights, 25))\n",
    "print(\"Median:            \", np.median(heights))\n",
    "print(\"75th percentile:   \", np.percentile(heights, 75))"
   ]
  },
  {
   "cell_type": "markdown",
   "metadata": {
    "id": "RKqwOk8jrC5R"
   },
   "source": [
    "Vemos que la altura media de los presidentes de EE. UU. es de 182 cm, o apenas menos de seis pies. \n",
    "\n",
    "Por supuesto, a veces es más útil ver una representación visual de estos datos, lo que podemos lograr usando herramientas en Matplotlib (hablaremos de Matplotlib con más detalle en el Capítulo 4 ). Por ejemplo, este código genera el siguiente gráfico: "
   ]
  },
  {
   "cell_type": "code",
   "execution_count": 27,
   "metadata": {
    "id": "MVCMZa3JrC5S"
   },
   "outputs": [],
   "source": [
    "%matplotlib inline\n",
    "import matplotlib.pyplot as plt\n",
    "import seaborn; seaborn.set()  # set plot style"
   ]
  },
  {
   "cell_type": "code",
   "execution_count": 28,
   "metadata": {
    "id": "EgPVjPHJrC5T",
    "outputId": "91515525-20a7-4d74-ffba-23e379729b84"
   },
   "outputs": [
    {
     "data": {
      "image/png": "[encoded data removed]",
      "text/plain": [
       "<Figure size 432x288 with 1 Axes>"
      ]
     },
     "metadata": {},
     "output_type": "display_data"
    }
   ],
   "source": [
    "plt.hist(heights)\n",
    "plt.title('Height Distribution of US Presidents')\n",
    "plt.xlabel('height (cm)')\n",
    "plt.ylabel('number');"
   ]
  },
  {
   "cell_type": "markdown",
   "metadata": {
    "id": "YYWiZAn8rC5V"
   },
   "source": [
    "Estos agregados son algunas de las piezas fundamentales del análisis exploratorio de datos que exploraremos con mayor profundidad en capítulos posteriores del libro."
   ]
  }
 ],
 "metadata": {
  "interpreter": {
   "hash": "2576be1e3638b6e131e61d6112fad6c456d8bc880e81a5fcaa34bfa82a9be1a5"
  },
  "kernelspec": {
   "display_name": "Python 3.8.10 64-bit ('dataSci': venv)",
   "language": "python",
   "name": "python3"
  },
  "language_info": {
   "codemirror_mode": {
    "name": "ipython",
    "version": 3
   },
   "file_extension": ".py",
   "mimetype": "text/x-python",
   "name": "python",
   "nbconvert_exporter": "python",
   "pygments_lexer": "ipython3",
   "version": "3.8.10"
  },
  "orig_nbformat": 4
 },
 "nbformat": 4,
 "nbformat_minor": 2
}
