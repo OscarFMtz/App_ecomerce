{
 "cells": [
  {
   "cell_type": "markdown",
   "metadata": {},
   "source": [
    "# Machine Learning"
   ]
  },
  {
   "cell_type": "markdown",
   "metadata": {},
   "source": [
    "En muchos sentidos, el aprendizaje automático es el medio principal por el cual la ciencia de datos se manifiesta en el mundo en general. El aprendizaje automático es donde estas habilidades computacionales y algorítmicas de la ciencia de datos se encuentran con el pensamiento estadístico de la ciencia de datos, y el resultado es una colección de enfoques para la inferencia y la exploración de datos que no se trata tanto de teoría efectiva como de computación efectiva.\n",
    "\n",
    "El término \"aprendizaje automático\" a veces se usa como si fuera una especie de píldora mágica: ¡aplique el aprendizaje automático a sus datos y todos sus problemas se resolverán! Como era de esperar, la realidad rara vez es tan simple. Si bien estos métodos pueden ser increíblemente poderosos, para que sean efectivos, deben abordarse con una comprensión firme de las fortalezas y debilidades de cada método, así como una comprensión de los conceptos generales como el sesgo y la varianza, el ajuste excesivo y el inadecuado, y más. \n",
    "\n",
    "Este capítulo se sumergirá en los aspectos prácticos del aprendizaje automático, principalmente utilizando el Scikit-Learn . Esto no pretende ser una introducción completa al campo del aprendizaje automático; ese es un tema amplio y requiere un enfoque más técnico que el que adoptamos aquí. Tampoco pretende ser un manual completo para el uso del paquete Scikit-Learn.\n",
    "Los objetivos de este capítulo son: \n",
    "- Introducir el vocabulario y los conceptos fundamentales del aprendizaje automático.\n",
    "- Presentar la API de Scikit-Learn y mostrar algunos ejemplos de su uso.\n",
    "- Profundizar en los detalles de varios de los enfoques de aprendizaje automático más importantes y desarrollar una intuición sobre cómo funcionan y cuándo y dónde son aplicables.\n",
    "\n",
    "Gran parte de este material proviene de los tutoriales y talleres de Scikit-Learn que he impartido en varias ocasiones en PyCon, SciPy, PyData y otras conferencias. ¡Cualquier claridad en las siguientes páginas probablemente se deba a los muchos participantes del taller y co-instructores que me han brindado comentarios valiosos sobre este material a lo largo de los años! \n",
    "\n",
    "Finalmente, si busca un tratamiento más completo o técnico de cualquiera de estos temas, he enumerado varios recursos y referencias en Recursos adicionales de aprendizaje automático . "
   ]
  },
  {
   "cell_type": "markdown",
   "metadata": {},
   "source": [
    "![Further Machine Learning Resources](05.15-Learning-More.ipynb)."
   ]
  }
 ],
 "metadata": {
  "language_info": {
   "name": "python"
  },
  "orig_nbformat": 4
 },
 "nbformat": 4,
 "nbformat_minor": 2
}
