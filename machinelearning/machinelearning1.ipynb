{
 "cells": [
  {
   "cell_type": "markdown",
   "metadata": {},
   "source": [
    "# ¿Qué es el aprendizaje automático?"
   ]
  },
  {
   "cell_type": "code",
   "execution_count": 6,
   "metadata": {},
   "outputs": [],
   "source": [
    "import matplotlib.pyplot as plt\n",
    "import numpy as np\n",
    "import pandas as pd\n",
    "import seaborn as sns"
   ]
  },
  {
   "cell_type": "code",
   "execution_count": 5,
   "metadata": {},
   "outputs": [],
   "source": [
    "import os\n",
    "if not os.path.exists('figures'):\n",
    "    os.makedirs('figures')"
   ]
  },
  {
   "cell_type": "markdown",
   "metadata": {
    "deletable": true,
    "editable": true
   },
   "source": [
    "Antes de echar un vistazo a los detalles de varios métodos de aprendizaje automático, comencemos por ver qué es y qué no es el aprendizaje automático. El aprendizaje automático a menudo se clasifica como un subcampo de la inteligencia artificial, pero creo que la categorización a menudo puede ser engañosa a primera vista. El estudio del aprendizaje automático sin duda surgió de la investigación en este contexto, pero en la aplicación de la ciencia de datos de los métodos de aprendizaje automático, es más útil pensar en el aprendizaje automático como un medio para crear modelos de datos .\n",
    "\n",
    "Fundamentalmente, el aprendizaje automático implica la construcción de modelos matemáticos para ayudar a comprender los datos. El \"aprendizaje\" entra en juego cuando damos a estos modelos parámetros ajustables que se pueden adaptar a los datos observados; de esta manera se puede considerar que el programa está \"aprendiendo\" de los datos. Una vez que estos modelos se han ajustado a los datos vistos anteriormente, se pueden usar para predecir y comprender aspectos de los datos recién observados. Dejaré al lector la digresión más filosófica sobre hasta qué punto este tipo de \"aprendizaje\" matemático basado en modelos es similar al \"aprendizaje\" exhibido por el cerebro humano.\n",
    "\n",
    "Comprender la configuración del problema en el aprendizaje automático es esencial para usar estas herramientas de manera efectiva, por lo que comenzaremos con algunas categorizaciones amplias de los tipos de enfoques que analizaremos aquí."
   ]
  },
  {
   "cell_type": "markdown",
   "metadata": {
    "deletable": true,
    "editable": true
   },
   "source": [
    "## Categorías de aprendizaje automático\n",
    "\n",
    "En el nivel más fundamental, el aprendizaje automático se puede clasificar en dos tipos principales: aprendizaje supervisado y aprendizaje no supervisado. \n",
    "\n",
    "\n",
    "El aprendizaje supervisado implica modelar de alguna manera la relación entre las características medidas de los datos y alguna etiqueta asociada con los datos; una vez que se determina este modelo, se puede usar para aplicar etiquetas a datos nuevos y desconocidos. Esto se subdivide en clasificación y tareas de regresión : en la clasificación, las etiquetas son categorías discretas, mientras que en la regresión, las etiquetas son cantidades continuas. Veremos ejemplos de ambos tipos de aprendizaje supervisado en la siguiente sección. \n",
    "\n",
    "El aprendizaje no supervisado implica modelar las características de un conjunto de datos sin hacer referencia a ninguna etiqueta y, a menudo, se describe como \"dejar que el conjunto de datos hable por sí mismo\". Estos modelos incluyen tareas como el agrupamiento y la reducción de dimensionalidad. Los algoritmos de agrupamiento identifican distintos grupos de datos, mientras que los algoritmos de reducción de dimensionalidad buscan representaciones más sucintas de los datos. Veremos ejemplos de ambos tipos de aprendizaje no supervisado en la siguiente sección. \n",
    "\n",
    "Además, existen los llamados de aprendizaje semisupervisados, que se encuentran en algún lugar entre el aprendizaje supervisado y el aprendizaje no supervisado. Los métodos de aprendizaje semisupervisados ​​suelen ser útiles cuando solo se dispone de etiquetas incompletas. "
   ]
  },
  {
   "cell_type": "markdown",
   "metadata": {
    "deletable": true,
    "editable": true
   },
   "source": [
    "## Ejemplos cualitativos de aplicaciones de aprendizaje automático \n",
    "\n",
    "Para hacer estas ideas más concretas, echemos un vistazo a algunos ejemplos muy simples de una tarea de aprendizaje automático. Estos ejemplos están destinados a brindar una descripción general intuitiva y no cuantitativa de los tipos de tareas de aprendizaje automático que veremos en este capítulo. En secciones posteriores, profundizaremos en los modelos particulares y cómo se utilizan. Para obtener una vista previa de estos aspectos más técnicos. \n"
   ]
  },
  {
   "cell_type": "markdown",
   "metadata": {
    "deletable": true,
    "editable": true
   },
   "source": [
    "### Clasificación: predicción de etiquetas discretas\n",
    "\n",
    "Primero veremos una clasificación , en la que se le proporciona un conjunto de puntos etiquetados y desea utilizarlos para clasificar algunos puntos no etiquetados.\n",
    "\n",
    "Imagina que tenemos los datos que se muestran en esta figura: "
   ]
  },
  {
   "cell_type": "markdown",
   "metadata": {},
   "source": [
    "![Integer Memory Layout](../figures/05.01-classification-1.png)"
   ]
  },
  {
   "cell_type": "markdown",
   "metadata": {
    "deletable": true,
    "editable": true
   },
   "source": [
    "Aquí tenemos datos bidimensionales: es decir, tenemos dos *características* para cada punto, representadas por los puntos *(x, y)* en el plano. Además, tenemos una de dos *etiquetas de clase* para cada punto, representada aquí por los colores de los puntos. A partir de estas características y etiquetas, nos gustaría crear un modelo que nos permita decidir si un nuevo punto debe etiquetarse como \"azul\" o \"rojo\". \n",
    "\n",
    "Hay varios modelos posibles para tal tarea de clasificación, pero aquí usaremos uno extremadamente simple. Haremos la suposición de que los dos grupos se pueden separar dibujando una línea recta a través del plano entre ellos, de modo que los puntos a cada lado de la línea caigan en el mismo grupo.\n",
    "Aquí el *modelo* es una versión cuantitativa de la afirmación \"una línea recta separa las clases\", mientras que los *parámetros del modelo* son los números particulares que describen la ubicación y orientación de esa línea para nuestros datos. Los valores óptimos para estos parámetros del modelo se aprenden de los datos (este es el \"aprendizaje\" en el aprendizaje automático), lo que a menudo se denomina *entrenamiento del modelo*. \n",
    "\n",
    "La siguiente figura muestra una representación visual de cómo se ve el modelo entrenado para estos datos: "
   ]
  },
  {
   "cell_type": "markdown",
   "metadata": {},
   "source": [
    "![Integer Memory Layout](../figures/05.01-classification-2.png)"
   ]
  },
  {
   "cell_type": "markdown",
   "metadata": {
    "deletable": true,
    "editable": true
   },
   "source": [
    "Ahora que se ha entrenado este modelo, se puede generalizar a datos nuevos sin etiquetar. En otras palabras, podemos tomar un nuevo conjunto de datos, dibujar esta línea de modelo a través de él y asignar etiquetas a los nuevos puntos en función de este modelo. Esta etapa suele llamarse predicción . Ver la siguiente figura:"
   ]
  },
  {
   "cell_type": "markdown",
   "metadata": {},
   "source": [
    "![Integer Memory Layout](../figures/05.01-classification-3.png)"
   ]
  },
  {
   "cell_type": "markdown",
   "metadata": {
    "deletable": true,
    "editable": true
   },
   "source": [
    "Esta es la idea básica de una tarea de clasificación en el aprendizaje automático, donde \"clasificación\" indica que los datos tienen etiquetas de clase discretas. A primera vista, esto puede parecer bastante trivial: sería relativamente fácil mirar simplemente estos datos y trazar una línea tan discriminatoria para lograr esta clasificación. Sin embargo, un beneficio del enfoque de aprendizaje automático es que puede generalizarse a conjuntos de datos mucho más grandes en muchas más dimensiones. \n",
    "\n",
    "\n",
    "Por ejemplo, esto es similar a la tarea de detección automática de spam para correo electrónico; en este caso, podríamos usar las siguientes características y etiquetas: \n",
    "\n",
    "- *feature 1*, *feature 2*, etc. $\\to$ normalized counts of important words or phrases (\"Viagra\", \"Nigerian prince\", etc.)\n",
    "- *label* $\\to$ \"spam\" or \"not spam\"\n",
    "\n",
    "Para el conjunto de entrenamiento, estas etiquetas pueden determinarse mediante la inspección individual de una pequeña muestra representativa de correos electrónicos; para los correos electrónicos restantes, la etiqueta se determinaría utilizando el modelo. Para un algoritmo de clasificación adecuadamente entrenado con suficientes funciones bien construidas (normalmente miles o millones de palabras o frases), este tipo de enfoque puede ser muy efectivo. Veremos un ejemplo de dicha clasificación basada en texto en en A fondo: Clasificación Naive Bayes. \n",
    "\n",
    "Algunos algoritmos de clasificación importantes que analizaremos con más detalle son Gaussian ingenuo Bayes (ver En profundidad: Clasificación Naive Bayes ), máquinas de vectores de soporte (ver En profundidad: Máquinas de vectores de soporte ) y clasificación de bosques aleatorios (ver En profundidad: Decisión Árboles y bosques aleatorios ). "
   ]
  },
  {
   "cell_type": "markdown",
   "metadata": {
    "deletable": true,
    "editable": true
   },
   "source": [
    "### Regresión: predicción de etiquetas continuas\n",
    "\n",
    "A diferencia de las etiquetas discretas de un algoritmo de clasificación, a continuación veremos una regresión tarea de\n",
    "\n",
    "Considere los datos que se muestran en la siguiente figura, que consta de un conjunto de puntos, cada uno con una etiqueta continua:\n"
   ]
  },
  {
   "cell_type": "markdown",
   "metadata": {},
   "source": [
    "![Integer Memory Layout](../figures/05.01-regression-1.png)\n",
    "\n"
   ]
  },
  {
   "cell_type": "markdown",
   "metadata": {
    "deletable": true,
    "editable": true
   },
   "source": [
    "Al igual que con el ejemplo de clasificación, tenemos datos bidimensionales: es decir, hay dos características que describen cada punto de datos. El color de cada punto representa la etiqueta continua para ese punto.\n",
    "\n",
    "Hay varios modelos de regresión posibles que podríamos usar para este tipo de datos, pero aquí usaremos una regresión lineal simple para predecir los puntos. Este modelo de regresión lineal simple asume que si tratamos la etiqueta como una tercera dimensión espacial, podemos ajustar un plano a los datos. Esta es una generalización de alto nivel del conocido problema de ajustar una línea a datos con dos coordenadas. \n",
    "\n",
    "Podemos visualizar esta configuración como se muestra en la siguiente figura:"
   ]
  },
  {
   "cell_type": "markdown",
   "metadata": {},
   "source": [
    "![Integer Memory Layout](../figures/05.01-regression-2.png)"
   ]
  },
  {
   "cell_type": "markdown",
   "metadata": {
    "deletable": true,
    "editable": true
   },
   "source": [
    "Observe que el característica 1-característica 2 aquí es el mismo que en el gráfico bidimensional anterior; en este caso, sin embargo, hemos representado las etiquetas por el color y la posición del eje tridimensional. Desde este punto de vista, parece razonable que ajustar un plano a través de estos datos tridimensionales nos permita predecir la etiqueta esperada para cualquier conjunto de parámetros de entrada. Volviendo a la proyección bidimensional, cuando ajustamos dicho plano obtenemos el resultado que se muestra en la siguiente figura:"
   ]
  },
  {
   "cell_type": "markdown",
   "metadata": {},
   "source": [
    "![Integer Memory Layout](../figures/05.01-regression-3.png)"
   ]
  },
  {
   "cell_type": "markdown",
   "metadata": {
    "deletable": true,
    "editable": true
   },
   "source": [
    "Este plano de ajuste nos da lo que necesitamos para predecir etiquetas para nuevos puntos. Visualmente, encontramos los resultados que se muestran en la siguiente figura:"
   ]
  },
  {
   "cell_type": "markdown",
   "metadata": {},
   "source": [
    "![Integer Memory Layout](../figures/05.01-regression-4.png)"
   ]
  },
  {
   "cell_type": "markdown",
   "metadata": {
    "deletable": true,
    "editable": true
   },
   "source": [
    "Al igual que con el ejemplo de clasificación, esto puede parecer bastante trivial en un número reducido de dimensiones. Pero el poder de estos métodos es que pueden aplicarse y evaluarse directamente en el caso de datos con muchas, muchas características. \n",
    "\n",
    "Por ejemplo, esto es similar a la tarea de calcular la distancia a las galaxias observadas a través de un telescopio; en este caso, podríamos usar las siguientes funciones y etiquetas: \n",
    "\n",
    "- *feature 1*, *feature 2*, etc. $\\to$ brillo de cada galaxia en una de varias longitudes de onda o colores \n",
    "- *label* $\\to$ distancia o corrimiento al rojo de la galaxia \n",
    "\n",
    "Las distancias para un pequeño número de estas galaxias podrían determinarse a través de un conjunto independiente de observaciones (generalmente más costosas). Luego, las distancias a las galaxias restantes podrían estimarse utilizando un modelo de regresión adecuado, sin la necesidad de emplear la observación más costosa en todo el conjunto. En los círculos de astronomía, esto se conoce como el problema del \"desplazamiento al rojo fotométrico\". \n",
    "\n",
    "Algunos algoritmos de regresión importantes que discutiremos son la regresión lineal (ver En profundidad: Regresión lineal ), las máquinas de vectores de soporte (ver En profundidad: Máquinas de vectores de soporte ) y la regresión de bosque aleatorio (ver En profundidad: Árboles de decisión y bosques aleatorios ) . "
   ]
  },
  {
   "cell_type": "markdown",
   "metadata": {
    "deletable": true,
    "editable": true
   },
   "source": [
    "### Clustering(Agrupamiento): inferir etiquetas en datos sin etiquetar\n",
    "\n",
    "Las ilustraciones de clasificación y regresión que acabamos de ver son ejemplos de algoritmos de aprendizaje supervisado, en los que intentamos construir un modelo que prediga etiquetas para nuevos datos. El aprendizaje no supervisado involucra modelos que describen datos sin referencia a ninguna etiqueta conocida. \n",
    "\n",
    "Un caso común de aprendizaje no supervisado es la \"agrupación\", en la que los datos se asignan automáticamente a una cierta cantidad de grupos discretos. Por ejemplo, podríamos tener algunos datos bidimensionales como los que se muestran en la siguiente figura: "
   ]
  },
  {
   "cell_type": "markdown",
   "metadata": {},
   "source": [
    "![Integer Memory Layout](../figures/05.01-clustering-1.png)"
   ]
  },
  {
   "cell_type": "markdown",
   "metadata": {
    "deletable": true,
    "editable": true
   },
   "source": [
    "A simple vista, es claro que cada uno de estos puntos es parte de un grupo distinto. Dada esta entrada, un modelo de agrupamiento utilizará la estructura intrínseca de los datos para determinar qué puntos están relacionados. Usando el muy rápido e intuitivo k -means (ver En Profundidad: Agrupación de K-Means ), encontramos los clústeres que se muestran en la siguiente figura:"
   ]
  },
  {
   "cell_type": "markdown",
   "metadata": {},
   "source": [
    "![Integer Memory Layout](../figures/05.01-clustering-2.png)"
   ]
  },
  {
   "cell_type": "markdown",
   "metadata": {
    "deletable": true,
    "editable": true
   },
   "source": [
    "k -means se ajusta a un modelo que consta de k centros de conglomerados; se supone que los centros óptimos son aquellos que minimizan la distancia de cada punto a su centro asignado. Nuevamente, esto puede parecer un ejercicio trivial en dos dimensiones, pero a medida que nuestros datos se vuelven más grandes y complejos, estos algoritmos de agrupamiento se pueden emplear para extraer información útil del conjunto de datos. \n",
    "\n",
    "Discutiremos el k algoritmo de En profundidad: Agrupación de k-medias . Otros algoritmos de agrupamiento importantes incluyen modelos de mezcla gaussiana (ver en profundidad: modelos de mezcla gaussiana ) y agrupamiento espectral (consulte la documentación de agrupamiento de Scikit-Learn ). "
   ]
  },
  {
   "cell_type": "markdown",
   "metadata": {
    "deletable": true,
    "editable": true
   },
   "source": [
    "### Reducción de dimensionalidad: Inferir estructura de datos sin etiquetar\n",
    "\n",
    "La reducción de la dimensionalidad es otro ejemplo de un algoritmo no supervisado, en el que las etiquetas u otra información se infieren de la estructura del propio conjunto de datos. La reducción de la dimensionalidad es un poco más abstracta que los ejemplos que vimos antes, pero generalmente busca sacar alguna representación de datos de baja dimensión que de alguna manera conserva las cualidades relevantes del conjunto de datos completo. Diferentes rutinas de reducción de dimensionalidad miden estas cualidades relevantes de diferentes maneras, como veremos en En profundidad: aprendizaje múltiple . \n",
    "\n",
    "Como ejemplo de esto, considere los datos que se muestran en la siguiente figura: "
   ]
  },
  {
   "cell_type": "markdown",
   "metadata": {},
   "source": [
    "![Integer Memory Layout](../figures/05.01-dimesionality-1.png)"
   ]
  },
  {
   "cell_type": "markdown",
   "metadata": {
    "deletable": true,
    "editable": true
   },
   "source": [
    "Visualmente, está claro que hay cierta estructura en estos datos: se extrae de una línea unidimensional que se organiza en espiral dentro de este espacio bidimensional. En cierto sentido, se podría decir que estos datos son \"intrínsecamente\" solo unidimensionales, aunque estos datos unidimensionales están incrustados en un espacio de dimensiones superiores. Un modelo de reducción de dimensionalidad adecuado en este caso sería sensible a esta estructura incrustada no lineal y podría extraer esta representación de menor dimensionalidad. \n",
    "\n",
    "La siguiente figura muestra una visualización de los resultados del algoritmo Isomap, un algoritmo de aprendizaje múltiple que hace exactamente esto: "
   ]
  },
  {
   "cell_type": "markdown",
   "metadata": {},
   "source": [
    "![Integer Memory Layout](../figures/05.01-dimesionality-2.png)"
   ]
  },
  {
   "cell_type": "markdown",
   "metadata": {
    "deletable": true,
    "editable": true
   },
   "source": [
    "\n",
    "Observe que los colores (que representan la variable latente unidimensional extraída) cambian uniformemente a lo largo de la espiral, lo que indica que el algoritmo de hecho detectó la estructura que vimos a simple vista. Al igual que con los ejemplos anteriores, el poder de los algoritmos de reducción de dimensionalidad se vuelve más claro en casos de dimensiones superiores. Por ejemplo, podríamos desear visualizar relaciones importantes dentro de un conjunto de datos que tiene 100 o 1000 características. Visualizar datos de 1000 dimensiones es un desafío, y una forma en que podemos hacer que esto sea más manejable es usar una técnica de reducción de dimensionalidad para reducir los datos a dos o tres dimensiones. \n",
    "\n",
    "Algunos algoritmos de reducción de dimensionalidad importantes que discutiremos son el análisis de componentes principales (consulte En profundidad: Análisis de componentes principales ) y varios algoritmos de aprendizaje múltiple, incluidos Isomap y la incrustación lineal local (Consulte En profundidad: Aprendizaje múltiple ). \n"
   ]
  },
  {
   "cell_type": "markdown",
   "metadata": {
    "deletable": true,
    "editable": true
   },
   "source": [
    "## Summary\n",
    "\n",
    "Aquí hemos visto algunos ejemplos simples de algunos de los tipos básicos de enfoques de aprendizaje automático. No hace falta decir que hay una serie de detalles prácticos importantes que hemos pasado por alto, pero espero que esta sección haya sido suficiente para darle una idea básica de qué tipos de problemas pueden resolver los enfoques de aprendizaje automático. \n",
    "In short, we saw the following:\n",
    "\n",
    "- *Aprendizaje Supervisado *: Models that can predict labels based on labeled training data\n",
    "\n",
    "  - *Clasificación*: modelos que predicen etiquetas como dos o más categorías discretas.\n",
    "  - *Regresión*: Modelos que predicen etiquetas continuas \n",
    "  \n",
    "- *Aprendizaje no supervisado* : modelos que identifican la estructura en datos no etiquetados \n",
    "\n",
    "  - *Clustering*: Modelos que detectan e identifican distintos grupos en los datos.\n",
    "  - *Reducción de dimensionalidad*: modelos que detectan e identifican estructuras de menor dimensión en datos de mayor dimensión.\n",
    "  \n",
    "En las siguientes secciones profundizaremos mucho más en estas categorías y veremos algunos ejemplos más interesantes de dónde pueden ser útiles estos conceptos. \n",
    "\n",
    "Todas las cifras de la discusión anterior se generan en base a cálculos reales de aprendizaje automático; el código detrás de ellos se puede encontrar en el Apéndice: Código de figura"
   ]
  },
  {
   "cell_type": "markdown",
   "metadata": {},
   "source": []
  }
 ],
 "metadata": {
  "interpreter": {
   "hash": "2576be1e3638b6e131e61d6112fad6c456d8bc880e81a5fcaa34bfa82a9be1a5"
  },
  "kernelspec": {
   "display_name": "Python 3.8.10 64-bit ('dataSci': venv)",
   "language": "python",
   "name": "python3"
  },
  "language_info": {
   "codemirror_mode": {
    "name": "ipython",
    "version": 3
   },
   "file_extension": ".py",
   "mimetype": "text/x-python",
   "name": "python",
   "nbconvert_exporter": "python",
   "pygments_lexer": "ipython3",
   "version": "3.8.10"
  },
  "orig_nbformat": 4
 },
 "nbformat": 4,
 "nbformat_minor": 2
}
