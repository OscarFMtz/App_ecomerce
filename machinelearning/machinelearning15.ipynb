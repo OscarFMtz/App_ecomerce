{
 "cells": [
  {
   "cell_type": "markdown",
   "metadata": {},
   "source": [
    "# Más recursos de aprendizaje automático"
   ]
  },
  {
   "cell_type": "markdown",
   "metadata": {
    "deletable": true,
    "editable": true
   },
   "source": [
    "Este capítulo ha sido un recorrido rápido por el aprendizaje automático en Python, principalmente usando las herramientas dentro de la biblioteca Scikit-Learn. Si bien el capítulo es largo, aún es demasiado corto para cubrir muchos algoritmos, enfoques y discusiones interesantes e importantes. Aquí quiero sugerir algunos recursos para aprender más sobre el aprendizaje automático para aquellos que estén interesados."
   ]
  },
  {
   "cell_type": "markdown",
   "metadata": {
    "deletable": true,
    "editable": true
   },
   "source": [
    "## Aprendizaje automático en Python\n",
    "\n",
    "Para obtener más información sobre el aprendizaje automático en Python, sugiero algunos de los siguientes recursos: \n",
    "\n",
    "- [El sitio web de Scikit-Learn](http://scikit-learn.org): tiene una impresionante variedad de documentación y ejemplos que cubren algunos de los modelos discutidos aquí, y mucho, mucho más. Si desea una breve encuesta de los algoritmos de aprendizaje automático más importantes y de uso frecuente, este sitio web es un buen lugar para comenzar.\n",
    "\n",
    "- *Videos de tutoriales de SciPy, PyCon y PyData *: Scikit-Learn y otros temas de aprendizaje automático son los favoritos perennes en las pistas de tutoriales de muchas series de conferencias centradas en Python, en particular las conferencias de PyCon, SciPy y PyData. Puede encontrar los más recientes a través de una simple búsqueda en la web.\n",
    "\n",
    "- [*Introducción al aprendizaje automático con Python*](http://shop.oreilly.com/product/0636920030515.do): escrito por Andreas C. Mueller y Sarah Guido, este libro incluye un tratamiento más completo de los temas de este capítulo. Si está interesado en revisar los fundamentos del aprendizaje automático y llevar el kit de herramientas de Scikit-Learn al límite, este es un gran recurso, escrito por uno de los desarrolladores más prolíficos del equipo de Scikit-Learn.\n",
    "\n",
    "- [*Python Machine Learning*](https://www.packtpub.com/big-data-and-business-intelligence/python-machine-learning): el libro de Sebastian Raschka se centra menos en Scikit-learn y más en la variedad de herramientas de aprendizaje automático disponibles en Python. En particular, hay una discusión muy útil sobre cómo escalar los enfoques de aprendizaje automático basados ​​en Python para conjuntos de datos grandes y complejos."
   ]
  },
  {
   "cell_type": "markdown",
   "metadata": {
    "deletable": true,
    "editable": true
   },
   "source": [
    "## Aprendizaje automático general\n",
    "\n",
    "Por supuesto, el aprendizaje automático es mucho más amplio que el mundo de Python. Hay muchos buenos recursos para llevar su conocimiento más allá, y aquí destacaré algunos que he encontrado útiles: \n",
    "\n",
    "\n",
    "\n",
    "- [*Aprendizaje automático*](https://www.coursera.org/learn/machine-learning): : Impartido por Andrew Ng (Coursera), este es un curso en línea gratuito muy claro que cubre los conceptos básicos del aprendizaje automático desde una perspectiva algorítmica. Supone una comprensión de matemáticas y programación a nivel de pregrado, y avanza a través de consideraciones detalladas de algunos de los algoritmos de aprendizaje automático más importantes. Las asignaciones de tarea, que se califican algorítmicamente, ¿realmente implementó algunos de estos modelos usted mismo?\n",
    "\n",
    "- [Reconocimiento de patrones y aprendizaje automático](http://www.springer.com/us/book/9780387310732): escrito por Christopher Bishop, este texto técnico clásico cubre los conceptos de aprendizaje automático discutidos en este capítulo en detalle. Si piensas ir más allá en este tema, deberías tener este libro en tu estantería.\n",
    "\n",
    "- [Machine Learning:a Probabilistic Perspective](https://mitpress.mit.edu/books/machine-learning-0): escrito por Kevin Murphy, este es un excelente texto para graduados que explora casi todos los algoritmos importantes de aprendizaje automático desde una perspectiva probabilística unificada y básica.\n",
    "\n",
    "Estos recursos son más técnicos que el material presentado en este libro, pero para comprender realmente los fundamentos de estos métodos se requiere una inmersión profunda en las matemáticas detrás de ellos. Si está preparado para el desafío y listo para llevar su ciencia de datos al siguiente nivel, ¡no dude en sumergirse! "
   ]
  }
 ],
 "metadata": {
  "language_info": {
   "name": "python"
  },
  "orig_nbformat": 4
 },
 "nbformat": 4,
 "nbformat_minor": 2
}
